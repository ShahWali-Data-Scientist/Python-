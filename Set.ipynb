{
 "cells": [
  {
   "cell_type": "markdown",
   "id": "69db2825",
   "metadata": {},
   "source": [
    "# Set"
   ]
  },
  {
   "cell_type": "markdown",
   "id": "39639d96",
   "metadata": {},
   "source": [
    "# set will give you a unique value"
   ]
  },
  {
   "cell_type": "code",
   "execution_count": 1,
   "id": "f5121ebb",
   "metadata": {},
   "outputs": [],
   "source": [
    "s1 = {1,2,1,4,9,6,4,7,7,0,0,0,}"
   ]
  },
  {
   "cell_type": "code",
   "execution_count": 5,
   "id": "8836a65c",
   "metadata": {},
   "outputs": [
    {
     "data": {
      "text/plain": [
       "{0, 1, 2, 4, 6, 7, 9}"
      ]
     },
     "execution_count": 5,
     "metadata": {},
     "output_type": "execute_result"
    }
   ],
   "source": [
    "s1"
   ]
  },
  {
   "cell_type": "code",
   "execution_count": 6,
   "id": "7db95b2e",
   "metadata": {},
   "outputs": [
    {
     "data": {
      "text/plain": [
       "set"
      ]
     },
     "execution_count": 6,
     "metadata": {},
     "output_type": "execute_result"
    }
   ],
   "source": [
    "type(s1)"
   ]
  },
  {
   "cell_type": "code",
   "execution_count": 7,
   "id": "61420084",
   "metadata": {},
   "outputs": [],
   "source": [
    "s2 = {324,4567,4321,9876,567}"
   ]
  },
  {
   "cell_type": "code",
   "execution_count": 8,
   "id": "949bed00",
   "metadata": {},
   "outputs": [
    {
     "data": {
      "text/plain": [
       "{324, 567, 4321, 4567, 9876}"
      ]
     },
     "execution_count": 8,
     "metadata": {},
     "output_type": "execute_result"
    }
   ],
   "source": [
    "s2"
   ]
  },
  {
   "cell_type": "code",
   "execution_count": 9,
   "id": "0fedd92a",
   "metadata": {},
   "outputs": [],
   "source": [
    "s3 = {'shah',234,4,12,555,7,'wali'}"
   ]
  },
  {
   "cell_type": "code",
   "execution_count": 10,
   "id": "bb819e42",
   "metadata": {},
   "outputs": [
    {
     "data": {
      "text/plain": [
       "{12, 234, 4, 555, 7, 'shah', 'wali'}"
      ]
     },
     "execution_count": 10,
     "metadata": {},
     "output_type": "execute_result"
    }
   ],
   "source": [
    "s3"
   ]
  },
  {
   "cell_type": "code",
   "execution_count": 11,
   "id": "d14a3ccb",
   "metadata": {},
   "outputs": [
    {
     "ename": "TypeError",
     "evalue": "'set' object is not subscriptable",
     "output_type": "error",
     "traceback": [
      "\u001b[1;31m---------------------------------------------------------------------------\u001b[0m",
      "\u001b[1;31mTypeError\u001b[0m                                 Traceback (most recent call last)",
      "\u001b[1;32m<ipython-input-11-122142c91927>\u001b[0m in \u001b[0;36m<module>\u001b[1;34m\u001b[0m\n\u001b[1;32m----> 1\u001b[1;33m \u001b[0ms3\u001b[0m\u001b[1;33m[\u001b[0m\u001b[1;36m2\u001b[0m\u001b[1;33m]\u001b[0m\u001b[1;33m\u001b[0m\u001b[1;33m\u001b[0m\u001b[0m\n\u001b[0m",
      "\u001b[1;31mTypeError\u001b[0m: 'set' object is not subscriptable"
     ]
    }
   ],
   "source": [
    "# 'set' object is not subscriptable\n",
    "s3[2]"
   ]
  },
  {
   "cell_type": "code",
   "execution_count": 12,
   "id": "450689d1",
   "metadata": {},
   "outputs": [
    {
     "data": {
      "text/plain": [
       "[4, 7, 234, 555, 12, 'wali', 'shah']"
      ]
     },
     "execution_count": 12,
     "metadata": {},
     "output_type": "execute_result"
    }
   ],
   "source": [
    "list(s3)"
   ]
  },
  {
   "cell_type": "code",
   "execution_count": 13,
   "id": "8d6638ef",
   "metadata": {},
   "outputs": [
    {
     "ename": "TypeError",
     "evalue": "'set' object is not subscriptable",
     "output_type": "error",
     "traceback": [
      "\u001b[1;31m---------------------------------------------------------------------------\u001b[0m",
      "\u001b[1;31mTypeError\u001b[0m                                 Traceback (most recent call last)",
      "\u001b[1;32m<ipython-input-13-122142c91927>\u001b[0m in \u001b[0;36m<module>\u001b[1;34m\u001b[0m\n\u001b[1;32m----> 1\u001b[1;33m \u001b[0ms3\u001b[0m\u001b[1;33m[\u001b[0m\u001b[1;36m2\u001b[0m\u001b[1;33m]\u001b[0m\u001b[1;33m\u001b[0m\u001b[1;33m\u001b[0m\u001b[0m\n\u001b[0m",
      "\u001b[1;31mTypeError\u001b[0m: 'set' object is not subscriptable"
     ]
    }
   ],
   "source": [
    "s3[2]"
   ]
  },
  {
   "cell_type": "code",
   "execution_count": 14,
   "id": "3186a8e2",
   "metadata": {},
   "outputs": [],
   "source": [
    "# convert to list then you can extract the element \n",
    "s3 = list(s3)"
   ]
  },
  {
   "cell_type": "code",
   "execution_count": 15,
   "id": "0e07d25c",
   "metadata": {},
   "outputs": [
    {
     "data": {
      "text/plain": [
       "234"
      ]
     },
     "execution_count": 15,
     "metadata": {},
     "output_type": "execute_result"
    }
   ],
   "source": [
    "s3[2]"
   ]
  },
  {
   "cell_type": "code",
   "execution_count": 16,
   "id": "7dff9588",
   "metadata": {},
   "outputs": [],
   "source": [
    "s3 = set(s3)"
   ]
  },
  {
   "cell_type": "code",
   "execution_count": 17,
   "id": "3fddc97e",
   "metadata": {},
   "outputs": [
    {
     "data": {
      "text/plain": [
       "{12, 234, 4, 555, 7, 'shah', 'wali'}"
      ]
     },
     "execution_count": 17,
     "metadata": {},
     "output_type": "execute_result"
    }
   ],
   "source": [
    "s3"
   ]
  },
  {
   "cell_type": "code",
   "execution_count": 19,
   "id": "717db474",
   "metadata": {},
   "outputs": [],
   "source": [
    "s3.remove('shah')"
   ]
  },
  {
   "cell_type": "code",
   "execution_count": 20,
   "id": "b09d12d5",
   "metadata": {},
   "outputs": [
    {
     "data": {
      "text/plain": [
       "{12, 234, 4, 555, 7, 'wali'}"
      ]
     },
     "execution_count": 20,
     "metadata": {},
     "output_type": "execute_result"
    }
   ],
   "source": [
    "s3"
   ]
  },
  {
   "cell_type": "code",
   "execution_count": 21,
   "id": "95d8e3ea",
   "metadata": {},
   "outputs": [],
   "source": [
    "s3.discard(7)"
   ]
  },
  {
   "cell_type": "code",
   "execution_count": 22,
   "id": "4093f72b",
   "metadata": {},
   "outputs": [
    {
     "data": {
      "text/plain": [
       "{12, 234, 4, 555, 'wali'}"
      ]
     },
     "execution_count": 22,
     "metadata": {},
     "output_type": "execute_result"
    }
   ],
   "source": [
    "s3"
   ]
  },
  {
   "cell_type": "code",
   "execution_count": null,
   "id": "92506639",
   "metadata": {},
   "outputs": [],
   "source": []
  }
 ],
 "metadata": {
  "kernelspec": {
   "display_name": "Python 3",
   "language": "python",
   "name": "python3"
  },
  "language_info": {
   "codemirror_mode": {
    "name": "ipython",
    "version": 3
   },
   "file_extension": ".py",
   "mimetype": "text/x-python",
   "name": "python",
   "nbconvert_exporter": "python",
   "pygments_lexer": "ipython3",
   "version": "3.8.8"
  }
 },
 "nbformat": 4,
 "nbformat_minor": 5
}
