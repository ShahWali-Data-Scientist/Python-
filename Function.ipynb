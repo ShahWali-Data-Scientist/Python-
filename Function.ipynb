{
 "cells": [
  {
   "cell_type": "code",
   "execution_count": 1,
   "id": "71513f59",
   "metadata": {},
   "outputs": [],
   "source": [
    "# def is the name of a function"
   ]
  },
  {
   "cell_type": "code",
   "execution_count": 3,
   "id": "d177a67a",
   "metadata": {},
   "outputs": [
    {
     "data": {
      "text/plain": [
       "7"
      ]
     },
     "execution_count": 3,
     "metadata": {},
     "output_type": "execute_result"
    }
   ],
   "source": [
    "def test(a, b) :\n",
    "    return a + b\n",
    "#call to function\n",
    "test(2,5)\n",
    "    "
   ]
  },
  {
   "cell_type": "code",
   "execution_count": 5,
   "id": "10411a82",
   "metadata": {},
   "outputs": [
    {
     "data": {
      "text/plain": [
       "15"
      ]
     },
     "execution_count": 5,
     "metadata": {},
     "output_type": "execute_result"
    }
   ],
   "source": [
    "test(b = 12, a = 3)"
   ]
  },
  {
   "cell_type": "code",
   "execution_count": 4,
   "id": "f4942ce2",
   "metadata": {},
   "outputs": [
    {
     "data": {
      "text/plain": [
       "'shahwali'"
      ]
     },
     "execution_count": 4,
     "metadata": {},
     "output_type": "execute_result"
    }
   ],
   "source": [
    "def test1(a, b) :\n",
    "    '''This is my function for concatenation or addition'''\n",
    "    return a + b\n",
    "#call to function\n",
    "test1(\"shah\",\"wali\")"
   ]
  },
  {
   "cell_type": "code",
   "execution_count": 8,
   "id": "c88234eb",
   "metadata": {},
   "outputs": [
    {
     "data": {
      "text/plain": [
       "(3, 4, 5, 5, 7)"
      ]
     },
     "execution_count": 8,
     "metadata": {},
     "output_type": "execute_result"
    }
   ],
   "source": [
    "def test2(a,b,c,d,e) :\n",
    "    return a,b,c,c,e\n",
    "test2(3,4,5,6,7)"
   ]
  },
  {
   "cell_type": "code",
   "execution_count": 9,
   "id": "f92f54cf",
   "metadata": {},
   "outputs": [
    {
     "data": {
      "text/plain": [
       "(22, 33)"
      ]
     },
     "execution_count": 9,
     "metadata": {},
     "output_type": "execute_result"
    }
   ],
   "source": [
    "def test3(*a) :\n",
    "    return a\n",
    "\n",
    "test3(22,33)"
   ]
  },
  {
   "cell_type": "code",
   "execution_count": 10,
   "id": "719d436e",
   "metadata": {},
   "outputs": [
    {
     "data": {
      "text/plain": [
       "(1, 2, 3, 4, 5, 6)"
      ]
     },
     "execution_count": 10,
     "metadata": {},
     "output_type": "execute_result"
    }
   ],
   "source": [
    "def test4(*shah) :\n",
    "    return shah\n",
    "\n",
    "test4(1,2,3,4,5,6)"
   ]
  },
  {
   "cell_type": "code",
   "execution_count": 11,
   "id": "8ad5de59",
   "metadata": {},
   "outputs": [
    {
     "data": {
      "text/plain": [
       "[2, 3, 45, 6, [1, 2, 3, 4]]"
      ]
     },
     "execution_count": 11,
     "metadata": {},
     "output_type": "execute_result"
    }
   ],
   "source": [
    "def test5(*a) :\n",
    "    l = []\n",
    "    for i in a :\n",
    "        l.append(i)\n",
    "    return l\n",
    "test5(2,3,45,6,[1,2,3,4])"
   ]
  },
  {
   "cell_type": "code",
   "execution_count": 12,
   "id": "7b640132",
   "metadata": {},
   "outputs": [
    {
     "data": {
      "text/plain": [
       "(1, 2, 3, 4, (5, 6, 6, 7, 8, 9, 0, 9))"
      ]
     },
     "execution_count": 12,
     "metadata": {},
     "output_type": "execute_result"
    }
   ],
   "source": [
    "def test6(a,b,c,d, *m) :\n",
    "    return a,b,c,d,m\n",
    "\n",
    "test6(1,2,3,4,5,6,6,7,8,9,0,9) # the first four number is consider for (a,b,c,d) "
   ]
  },
  {
   "cell_type": "code",
   "execution_count": 13,
   "id": "b19c1dc1",
   "metadata": {},
   "outputs": [
    {
     "ename": "TypeError",
     "evalue": "test7() missing 5 required keyword-only arguments: 'a', 'b', 'c', 'd', and 'e'",
     "output_type": "error",
     "traceback": [
      "\u001b[1;31m---\u001b[0m",
      "\u001b[1;31mTypeError\u001b[0mTraceback (most recent call last)",
      "\u001b[1;32m<ipython-input-13-b614f77cca9f>\u001b[0m in \u001b[0;36m<module>\u001b[1;34m\u001b[0m\n\u001b[0;32m      1\u001b[0m \u001b[1;32mdef\u001b[0m \u001b[0mtest7\u001b[0m\u001b[1;33m(\u001b[0m\u001b[1;33m*\u001b[0m\u001b[0mm\u001b[0m\u001b[1;33m,\u001b[0m\u001b[0ma\u001b[0m\u001b[1;33m,\u001b[0m\u001b[0mb\u001b[0m\u001b[1;33m,\u001b[0m\u001b[0mc\u001b[0m\u001b[1;33m,\u001b[0m\u001b[0md\u001b[0m\u001b[1;33m,\u001b[0m\u001b[0me\u001b[0m\u001b[1;33m)\u001b[0m \u001b[1;33m:\u001b[0m\u001b[1;33m\u001b[0m\u001b[1;33m\u001b[0m\u001b[0m\n\u001b[0;32m      2\u001b[0m     \u001b[1;32mreturn\u001b[0m \u001b[0mm\u001b[0m\u001b[1;33m,\u001b[0m\u001b[0ma\u001b[0m\u001b[1;33m,\u001b[0m\u001b[0mb\u001b[0m\u001b[1;33m,\u001b[0m\u001b[0mc\u001b[0m\u001b[1;33m,\u001b[0m\u001b[0md\u001b[0m\u001b[1;33m,\u001b[0m\u001b[0me\u001b[0m\u001b[1;33m\u001b[0m\u001b[1;33m\u001b[0m\u001b[0m\n\u001b[1;32m----> 3\u001b[1;33m \u001b[0mtest7\u001b[0m\u001b[1;33m(\u001b[0m\u001b[1;36m3\u001b[0m\u001b[1;33m,\u001b[0m\u001b[1;36m4\u001b[0m\u001b[1;33m,\u001b[0m\u001b[1;36m5\u001b[0m\u001b[1;33m,\u001b[0m\u001b[1;36m6\u001b[0m\u001b[1;33m,\u001b[0m\u001b[1;36m78\u001b[0m\u001b[1;33m,\u001b[0m\u001b[1;36m9\u001b[0m\u001b[1;33m,\u001b[0m\u001b[1;36m0\u001b[0m\u001b[1;33m,\u001b[0m\u001b[1;36m9\u001b[0m\u001b[1;33m,\u001b[0m\u001b[1;36m7\u001b[0m\u001b[1;33m)\u001b[0m\u001b[1;33m\u001b[0m\u001b[1;33m\u001b[0m\u001b[0m\n\u001b[0m",
      "\u001b[1;31mTypeError\u001b[0m: test7() missing 5 required keyword-only arguments: 'a', 'b', 'c', 'd', and 'e'"
     ]
    }
   ],
   "source": [
    "def test7(*m,a,b,c,d,e) :\n",
    "    return m,a,b,c,d,e\n",
    "test7(3,4,5,6,78,9,0,9,7)  # this will give you a typeerror"
   ]
  },
  {
   "cell_type": "code",
   "execution_count": 14,
   "id": "36104f2b",
   "metadata": {},
   "outputs": [
    {
     "data": {
      "text/plain": [
       "((3, 4, 5, 6, 4, 4, 5), 6, 78, 9, 0, 97)"
      ]
     },
     "execution_count": 14,
     "metadata": {},
     "output_type": "execute_result"
    }
   ],
   "source": [
    "# if you do this then they will execute\n",
    "def test7(*m,a,b,c,d,e) :\n",
    "    return m,a,b,c,d,e\n",
    "test7(3,4,5,6,4,4,5,a = 6,b = 78,c = 9,d = 0,e = 97)"
   ]
  },
  {
   "cell_type": "code",
   "execution_count": 15,
   "id": "ae7b55c7",
   "metadata": {},
   "outputs": [
    {
     "ename": "TypeError",
     "evalue": "test8() takes 0 positional arguments but 4 were given",
     "output_type": "error",
     "traceback": [
      "\u001b[1;31m---\u001b[0m",
      "\u001b[1;31mTypeError\u001b[0mTraceback (most recent call last)",
      "\u001b[1;32m<ipython-input-15-b3f0e1ec9267>\u001b[0m in \u001b[0;36m<module>\u001b[1;34m\u001b[0m\n\u001b[0;32m      2\u001b[0m     \u001b[1;32mreturn\u001b[0m \u001b[0mwali\u001b[0m\u001b[1;33m\u001b[0m\u001b[1;33m\u001b[0m\u001b[0m\n\u001b[0;32m      3\u001b[0m \u001b[1;33m\u001b[0m\u001b[0m\n\u001b[1;32m----> 4\u001b[1;33m \u001b[0mtest8\u001b[0m\u001b[1;33m(\u001b[0m\u001b[1;36m4\u001b[0m\u001b[1;33m,\u001b[0m\u001b[1;36m5\u001b[0m\u001b[1;33m,\u001b[0m\u001b[1;36m6\u001b[0m\u001b[1;33m,\u001b[0m\u001b[1;36m7\u001b[0m\u001b[1;33m)\u001b[0m  \u001b[1;31m#this value give u errror\u001b[0m\u001b[1;33m\u001b[0m\u001b[1;33m\u001b[0m\u001b[0m\n\u001b[0m",
      "\u001b[1;31mTypeError\u001b[0m: test8() takes 0 positional arguments but 4 were given"
     ]
    }
   ],
   "source": [
    "def test8(**wali) :\n",
    "    return wali\n",
    "\n",
    "test8(4,5,6,7)  #this value give u errror"
   ]
  },
  {
   "cell_type": "code",
   "execution_count": 16,
   "id": "4a95789b",
   "metadata": {},
   "outputs": [
    {
     "data": {
      "text/plain": [
       "{'b': 4, 'c': 5, 'd': 6, 'e': 7}"
      ]
     },
     "execution_count": 16,
     "metadata": {},
     "output_type": "execute_result"
    }
   ],
   "source": [
    "def test8(**wali) :\n",
    "    return wali\n",
    "\n",
    "test8(b =4,c = 5,d = 6,e = 7)  # now this will be work"
   ]
  },
  {
   "cell_type": "code",
   "execution_count": 17,
   "id": "5502cb84",
   "metadata": {},
   "outputs": [
    {
     "ename": "TypeError",
     "evalue": "test8() takes 0 positional arguments but 1 was given",
     "output_type": "error",
     "traceback": [
      "\u001b[1;31m---\u001b[0m",
      "\u001b[1;31mTypeError\u001b[0mTraceback (most recent call last)",
      "\u001b[1;32m<ipython-input-17-d017fe797aad>\u001b[0m in \u001b[0;36m<module>\u001b[1;34m\u001b[0m\n\u001b[0;32m      1\u001b[0m \u001b[0md\u001b[0m \u001b[1;33m=\u001b[0m \u001b[1;33m{\u001b[0m\u001b[1;34m'b'\u001b[0m \u001b[1;33m:\u001b[0m \u001b[1;36m4\u001b[0m\u001b[1;33m,\u001b[0m \u001b[1;34m'c'\u001b[0m \u001b[1;33m:\u001b[0m \u001b[1;36m6\u001b[0m\u001b[1;33m,\u001b[0m \u001b[1;34m'd'\u001b[0m \u001b[1;33m:\u001b[0m \u001b[1;36m8\u001b[0m\u001b[1;33m}\u001b[0m\u001b[1;33m\u001b[0m\u001b[1;33m\u001b[0m\u001b[0m\n\u001b[1;32m----> 2\u001b[1;33m \u001b[0mtest8\u001b[0m\u001b[1;33m(\u001b[0m\u001b[0md\u001b[0m\u001b[1;33m)\u001b[0m\u001b[1;33m\u001b[0m\u001b[1;33m\u001b[0m\u001b[0m\n\u001b[0m",
      "\u001b[1;31mTypeError\u001b[0m: test8() takes 0 positional arguments but 1 was given"
     ]
    }
   ],
   "source": [
    "d = {'b' : 4, 'c' : 6, 'd' : 8}\n",
    "test8(d)"
   ]
  },
  {
   "cell_type": "code",
   "execution_count": 18,
   "id": "6ac72ef0",
   "metadata": {},
   "outputs": [
    {
     "data": {
      "text/plain": [
       "((345, 543, 345), {'b': 6, 'c': 44, 'd': 88})"
      ]
     },
     "execution_count": 18,
     "metadata": {},
     "output_type": "execute_result"
    }
   ],
   "source": [
    "def test9(*m, **s) :\n",
    "    return m, s\n",
    "\n",
    "test9(345,543,345,b = 6, c = 44, d = 88)"
   ]
  },
  {
   "cell_type": "code",
   "execution_count": 19,
   "id": "1bd1da7b",
   "metadata": {},
   "outputs": [
    {
     "data": {
      "text/plain": [
       "20"
      ]
     },
     "execution_count": 19,
     "metadata": {},
     "output_type": "execute_result"
    }
   ],
   "source": [
    "def test10(*m) :\n",
    "    n = 0\n",
    "    for i in m :\n",
    "        if type(i) == int :\n",
    "            n = n+i   # addition\n",
    "    return n\n",
    "test10(2,3,4,5,6)"
   ]
  },
  {
   "cell_type": "code",
   "execution_count": 21,
   "id": "8905a1d9",
   "metadata": {},
   "outputs": [
    {
     "data": {
      "text/plain": [
       "6"
      ]
     },
     "execution_count": 21,
     "metadata": {},
     "output_type": "execute_result"
    }
   ],
   "source": [
    "def test11(*m) :\n",
    "    n = 1\n",
    "    for i in m :\n",
    "        if type(i) == int :\n",
    "            n = n*i  # multiplication\n",
    "    return n\n",
    "test11(2,3)"
   ]
  },
  {
   "cell_type": "code",
   "execution_count": 22,
   "id": "87abcf4c",
   "metadata": {},
   "outputs": [
    {
     "data": {
      "text/plain": [
       "<function __main__.<lambda>(a, b)>"
      ]
     },
     "execution_count": 22,
     "metadata": {},
     "output_type": "execute_result"
    }
   ],
   "source": [
    "lambda a ,b : a + b"
   ]
  },
  {
   "cell_type": "code",
   "execution_count": 23,
   "id": "8bbd8401",
   "metadata": {},
   "outputs": [
    {
     "data": {
      "text/plain": [
       "9"
      ]
     },
     "execution_count": 23,
     "metadata": {},
     "output_type": "execute_result"
    }
   ],
   "source": [
    "n = lambda a ,b : a + b\n",
    "n(4,5)"
   ]
  },
  {
   "cell_type": "code",
   "execution_count": 25,
   "id": "5d559b26",
   "metadata": {},
   "outputs": [
    {
     "data": {
      "text/plain": [
       "9"
      ]
     },
     "execution_count": 25,
     "metadata": {},
     "output_type": "execute_result"
    }
   ],
   "source": [
    "def test12(a,b) :\n",
    "    return a + b\n",
    "test12(4,5)"
   ]
  },
  {
   "cell_type": "code",
   "execution_count": 28,
   "id": "48186518",
   "metadata": {},
   "outputs": [
    {
     "data": {
      "text/plain": [
       "(55, 5, 5, 5, 22, 3, 3, 6, 2, 7)"
      ]
     },
     "execution_count": 28,
     "metadata": {},
     "output_type": "execute_result"
    }
   ],
   "source": [
    "b = lambda *shah : shah   # * use for multiple parameters or things\n",
    "b(55,5,5,5,22,3,3,6,2,7)"
   ]
  },
  {
   "cell_type": "code",
   "execution_count": 29,
   "id": "8a3201ff",
   "metadata": {},
   "outputs": [
    {
     "data": {
      "text/plain": [
       "[3, 4, 5, 6, 77, 8, 9]"
      ]
     },
     "execution_count": 29,
     "metadata": {},
     "output_type": "execute_result"
    }
   ],
   "source": [
    "t = (3,4,5,6,77,8,9)\n",
    "l = []\n",
    "for i in t :\n",
    "    l.append(i)\n",
    "l"
   ]
  },
  {
   "cell_type": "code",
   "execution_count": 30,
   "id": "29de1fa9",
   "metadata": {},
   "outputs": [
    {
     "data": {
      "text/plain": [
       "[3, 4, 5, 6, 77, 8, 9]"
      ]
     },
     "execution_count": 30,
     "metadata": {},
     "output_type": "execute_result"
    }
   ],
   "source": [
    "[i for i in t]   # this will give you same result"
   ]
  },
  {
   "cell_type": "code",
   "execution_count": 31,
   "id": "72a8a49b",
   "metadata": {},
   "outputs": [],
   "source": [
    "s = \"shahwali\""
   ]
  },
  {
   "cell_type": "code",
   "execution_count": 32,
   "id": "e1acd0a4",
   "metadata": {},
   "outputs": [
    {
     "data": {
      "text/plain": [
       "['s', 'h', 'a', 'h', 'w', 'a', 'l', 'i']"
      ]
     },
     "execution_count": 32,
     "metadata": {},
     "output_type": "execute_result"
    }
   ],
   "source": [
    "[i for i in s]"
   ]
  },
  {
   "cell_type": "code",
   "execution_count": 33,
   "id": "f3a79fc1",
   "metadata": {},
   "outputs": [
    {
     "data": {
      "text/plain": [
       "[0, 1, 4, 9, 16, 25, 36, 49, 64, 81]"
      ]
     },
     "execution_count": 33,
     "metadata": {},
     "output_type": "execute_result"
    }
   ],
   "source": [
    "[i*i for i in range(10)]  # both resut are same just code way are different"
   ]
  },
  {
   "cell_type": "code",
   "execution_count": 35,
   "id": "08ef26e1",
   "metadata": {},
   "outputs": [
    {
     "data": {
      "text/plain": [
       "[0, 1, 4, 9, 16, 25, 36, 49, 64, 81]"
      ]
     },
     "execution_count": 35,
     "metadata": {},
     "output_type": "execute_result"
    }
   ],
   "source": [
    "l = [] \n",
    "for i in range(10):\n",
    "    l.append(i*i)\n",
    "l"
   ]
  },
  {
   "cell_type": "code",
   "execution_count": 36,
   "id": "14b0ceda",
   "metadata": {},
   "outputs": [
    {
     "data": {
      "text/plain": [
       "[16, 2025, 36, 49, 64, 81]"
      ]
     },
     "execution_count": 36,
     "metadata": {},
     "output_type": "execute_result"
    }
   ],
   "source": [
    "l = lambda *x : [i**2 for i in x]\n",
    "l(4,45,6,7,8,9)"
   ]
  },
  {
   "cell_type": "code",
   "execution_count": null,
   "id": "e7f5fc80",
   "metadata": {},
   "outputs": [],
   "source": [
    "# example\n",
    "test14(a = 7, b = \"shah\", c = 345, d = \"shah\", l = [2,3,4, 'shah'])"
   ]
  },
  {
   "cell_type": "code",
   "execution_count": 38,
   "id": "66e67925",
   "metadata": {},
   "outputs": [
    {
     "data": {
      "text/plain": [
       "3"
      ]
     },
     "execution_count": 38,
     "metadata": {},
     "output_type": "execute_result"
    }
   ],
   "source": [
    "# find the number of strings in the list\n",
    "def test14(**kwargs) :\n",
    "    count = 0 \n",
    "    for v in kwargs.values() :\n",
    "        if type(v) == str or type(v) == list:\n",
    "            count += 1\n",
    "    return count\n",
    "test14(a = 7, b = \"shah\", c = 345, d = \"shah\", l = [2,3,4, 'shah'])  "
   ]
  },
  {
   "cell_type": "code",
   "execution_count": 39,
   "id": "03357ff7",
   "metadata": {},
   "outputs": [
    {
     "name": "stdout",
     "output_type": "stream",
     "text": [
      "{'a': 7, 'b': 'shah', 'c': 345, 'd': 'shah', 'l': [2, 3, 4, 'shah']}\n"
     ]
    },
    {
     "data": {
      "text/plain": [
       "3"
      ]
     },
     "execution_count": 39,
     "metadata": {},
     "output_type": "execute_result"
    }
   ],
   "source": [
    "# find the number of strings in the list\n",
    "def test14(**kwargs) :\n",
    "    count = 0 \n",
    "    print(kwargs)\n",
    "    for v in kwargs.values() :\n",
    "        if type(v) == str or type(v) == list:\n",
    "            count += 1\n",
    "    return count\n",
    "test14(a = 7, b = \"shah\", c = 345, d = \"shah\", l = [2,3,4, 'shah']) "
   ]
  },
  {
   "cell_type": "code",
   "execution_count": 40,
   "id": "c2f27240",
   "metadata": {},
   "outputs": [
    {
     "name": "stdout",
     "output_type": "stream",
     "text": [
      "{'a': 7, 'b': 'shah', 'c': 345, 'd': 'shah', 'l': [2, 3, 4, 'shah']}\n",
      "dict_values([7, 'shah', 345, 'shah', [2, 3, 4, 'shah']])\n"
     ]
    },
    {
     "data": {
      "text/plain": [
       "3"
      ]
     },
     "execution_count": 40,
     "metadata": {},
     "output_type": "execute_result"
    }
   ],
   "source": [
    "# find the number of strings in the list\n",
    "def test14(**kwargs) :\n",
    "    count = 0 \n",
    "    print(kwargs)\n",
    "    print(kwargs.values())\n",
    "    for v in kwargs.values() :\n",
    "        if type(v) == str or type(v) == list:\n",
    "            count += 1\n",
    "    return count\n",
    "test14(a = 7, b = \"shah\", c = 345, d = \"shah\", l = [2,3,4, 'shah']) "
   ]
  },
  {
   "cell_type": "code",
   "execution_count": 41,
   "id": "0175c41d",
   "metadata": {},
   "outputs": [
    {
     "data": {
      "text/plain": [
       "[7, 'shah', 345, 'shah', [2, 3, 4, 'shah']]"
      ]
     },
     "execution_count": 41,
     "metadata": {},
     "output_type": "execute_result"
    }
   ],
   "source": [
    "def test15(**kwargs) :\n",
    "    return list(kwargs.values())\n",
    "test15(a = 7, b = \"shah\", c = 345, d = \"shah\", l = [2,3,4, 'shah']) "
   ]
  },
  {
   "cell_type": "code",
   "execution_count": null,
   "id": "a320c69d",
   "metadata": {},
   "outputs": [],
   "source": []
  }
 ],
 "metadata": {
  "kernelspec": {
   "display_name": "Python 3",
   "language": "python",
   "name": "python3"
  },
  "language_info": {
   "codemirror_mode": {
    "name": "ipython",
    "version": 3
   },
   "file_extension": ".py",
   "mimetype": "text/x-python",
   "name": "python",
   "nbconvert_exporter": "python",
   "pygments_lexer": "ipython3",
   "version": "3.8.8"
  }
 },
 "nbformat": 4,
 "nbformat_minor": 5
}
