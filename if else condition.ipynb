{
 "cells": [
  {
   "cell_type": "markdown",
   "id": "010ccf0b",
   "metadata": {},
   "source": [
    "# If Statment"
   ]
  },
  {
   "cell_type": "code",
   "execution_count": 1,
   "id": "3d7b2eb6",
   "metadata": {},
   "outputs": [
    {
     "name": "stdout",
     "output_type": "stream",
     "text": [
      "This is my first Condition\n"
     ]
    }
   ],
   "source": [
    "a = 10\n",
    "if a == 10 :\n",
    "    print(\"This is my first Condition\")"
   ]
  },
  {
   "cell_type": "code",
   "execution_count": 2,
   "id": "323aec59",
   "metadata": {},
   "outputs": [],
   "source": [
    "a = 15\n",
    "if a > 5 :\n",
    "    pass"
   ]
  },
  {
   "cell_type": "code",
   "execution_count": 3,
   "id": "2edcb52f",
   "metadata": {},
   "outputs": [
    {
     "name": "stdout",
     "output_type": "stream",
     "text": [
      "condition is true\n"
     ]
    }
   ],
   "source": [
    "a = 10\n",
    "if a > 8 :\n",
    "    print(\"condition is true\")"
   ]
  },
  {
   "cell_type": "markdown",
   "id": "be9cb3a9",
   "metadata": {},
   "source": [
    "# if else condition"
   ]
  },
  {
   "cell_type": "code",
   "execution_count": 4,
   "id": "90203174",
   "metadata": {},
   "outputs": [
    {
     "name": "stdout",
     "output_type": "stream",
     "text": [
      "my condition is false\n"
     ]
    }
   ],
   "source": [
    "a = 10\n",
    "if a != 11 :\n",
    "    print(\"my condition is false\")\n",
    "else:\n",
    "    print(\"print this\")"
   ]
  },
  {
   "cell_type": "code",
   "execution_count": 5,
   "id": "9dad714f",
   "metadata": {},
   "outputs": [
    {
     "name": "stdout",
     "output_type": "stream",
     "text": [
      "print this\n"
     ]
    }
   ],
   "source": [
    "a = 10\n",
    "if a == 11 :\n",
    "    print(\"my condition is false\")\n",
    "else:\n",
    "    print(\"print this\")"
   ]
  },
  {
   "cell_type": "code",
   "execution_count": 6,
   "id": "3982d5f8",
   "metadata": {},
   "outputs": [
    {
     "name": "stdout",
     "output_type": "stream",
     "text": [
      "if all the blocks will fails then do this\n"
     ]
    }
   ],
   "source": [
    "a = 10\n",
    "if a == 12 :\n",
    "    print(\"here we are trying to compare 10 with 12\")\n",
    "elif a == 11:\n",
    "    print(\"we are trying to compare 10 with 12\")\n",
    "else :\n",
    "    print(\"if all the blocks will fails then do this\")"
   ]
  },
  {
   "cell_type": "code",
   "execution_count": 7,
   "id": "04edc6cf",
   "metadata": {},
   "outputs": [
    {
     "name": "stdout",
     "output_type": "stream",
     "text": [
      "here we are trying to compare 10 with 12\n"
     ]
    }
   ],
   "source": [
    "a = 10\n",
    "if a == 10 :\n",
    "    print(\"here we are trying to compare 10 with 12\")\n",
    "elif a == 11:\n",
    "    print(\"we are trying to compare 10 with 12\")\n",
    "else :\n",
    "    print(\"if all the blocks will fails then do this\")"
   ]
  },
  {
   "cell_type": "code",
   "execution_count": 8,
   "id": "f5d6e101",
   "metadata": {},
   "outputs": [
    {
     "name": "stdout",
     "output_type": "stream",
     "text": [
      "i will be able to buy a jacket\n"
     ]
    }
   ],
   "source": [
    "price = 500\n",
    "if price > 500 :\n",
    "    print(\"Maybe i wont be able to buy a jacket\")\n",
    "elif price <= 500 :\n",
    "    print(\"i will be able to buy a jacket\")"
   ]
  },
  {
   "cell_type": "code",
   "execution_count": 9,
   "id": "ddcb0acb",
   "metadata": {},
   "outputs": [
    {
     "name": "stdout",
     "output_type": "stream",
     "text": [
      "For sure i will be able to buy\n"
     ]
    }
   ],
   "source": [
    "price = 500\n",
    "if price > 500 :\n",
    "    print(\"Maybe i wont be able to buy a jacket\")\n",
    "elif price < 500 :\n",
    "    print(\"i will be able to buy a jacket\")\n",
    "elif price == 500 :\n",
    "    print(\"For sure i will be able to buy\")\n",
    "else:\n",
    "    print(\"i don't know\")"
   ]
  },
  {
   "cell_type": "code",
   "execution_count": 10,
   "id": "6a688cd0",
   "metadata": {},
   "outputs": [
    {
     "data": {
      "text/plain": [
       "False"
      ]
     },
     "execution_count": 10,
     "metadata": {},
     "output_type": "execute_result"
    }
   ],
   "source": [
    "price > 500"
   ]
  },
  {
   "cell_type": "code",
   "execution_count": 11,
   "id": "1c7cbae3",
   "metadata": {},
   "outputs": [
    {
     "data": {
      "text/plain": [
       "False"
      ]
     },
     "execution_count": 11,
     "metadata": {},
     "output_type": "execute_result"
    }
   ],
   "source": [
    "price < 500"
   ]
  },
  {
   "cell_type": "code",
   "execution_count": 12,
   "id": "1bd8fdbb",
   "metadata": {},
   "outputs": [
    {
     "data": {
      "text/plain": [
       "True"
      ]
     },
     "execution_count": 12,
     "metadata": {},
     "output_type": "execute_result"
    }
   ],
   "source": [
    "price == 500"
   ]
  },
  {
   "cell_type": "code",
   "execution_count": 13,
   "id": "f1eb7f5b",
   "metadata": {},
   "outputs": [
    {
     "data": {
      "text/plain": [
       "True"
      ]
     },
     "execution_count": 13,
     "metadata": {},
     "output_type": "execute_result"
    }
   ],
   "source": [
    "l = [1,2,3,4,5,6]\n",
    "2 in l"
   ]
  },
  {
   "cell_type": "code",
   "execution_count": 14,
   "id": "82196d9b",
   "metadata": {},
   "outputs": [
    {
     "name": "stdout",
     "output_type": "stream",
     "text": [
      " try to perform a task\n"
     ]
    }
   ],
   "source": [
    "if 2 in l :\n",
    "    print(\" try to perform a task\")\n",
    "else:\n",
    "    print(\"do not perform this task\")"
   ]
  },
  {
   "cell_type": "code",
   "execution_count": 15,
   "id": "adb3e006",
   "metadata": {},
   "outputs": [
    {
     "name": "stdout",
     "output_type": "stream",
     "text": [
      "do not perform this task\n"
     ]
    }
   ],
   "source": [
    "if 66 in l :\n",
    "    print(\" try to perform a task\")\n",
    "else:\n",
    "    print(\"do not perform this task\")"
   ]
  },
  {
   "cell_type": "code",
   "execution_count": 16,
   "id": "71ee03ac",
   "metadata": {},
   "outputs": [
    {
     "data": {
      "text/plain": [
       "False"
      ]
     },
     "execution_count": 16,
     "metadata": {},
     "output_type": "execute_result"
    }
   ],
   "source": [
    "66 in l"
   ]
  },
  {
   "cell_type": "code",
   "execution_count": 17,
   "id": "7a161db8",
   "metadata": {},
   "outputs": [
    {
     "name": "stdout",
     "output_type": "stream",
     "text": [
      "try to do subtraction\n"
     ]
    }
   ],
   "source": [
    "if 10 in l :\n",
    "    print(\"try to do a addition\")\n",
    "elif 2 in l :\n",
    "    print(\"try to do subtraction\")\n",
    "elif 3 in l :\n",
    "    print(\"try to do multiplication\")"
   ]
  },
  {
   "cell_type": "code",
   "execution_count": 18,
   "id": "719d5038",
   "metadata": {},
   "outputs": [
    {
     "name": "stdout",
     "output_type": "stream",
     "text": [
      "try to do subtraction\n",
      "this is new statement\n"
     ]
    }
   ],
   "source": [
    "if 10 in l :\n",
    "    print(\"try to do a addition\")\n",
    "elif 2 in l :\n",
    "    print(\"try to do subtraction\")\n",
    "elif 3 in l :\n",
    "    print(\"try to do multiplication\")\n",
    "    \n",
    "if 4 in l :        # this one is new block\n",
    "    print(\"this is new statement\")"
   ]
  },
  {
   "cell_type": "code",
   "execution_count": 19,
   "id": "d32cc786",
   "metadata": {},
   "outputs": [],
   "source": [
    "a = 400\n"
   ]
  },
  {
   "cell_type": "code",
   "execution_count": 20,
   "id": "1fb9f1a8",
   "metadata": {},
   "outputs": [
    {
     "name": "stdout",
     "output_type": "stream",
     "text": [
      "5\n"
     ]
    }
   ],
   "source": [
    "b = input()    # output will be in string"
   ]
  },
  {
   "cell_type": "code",
   "execution_count": 21,
   "id": "51b34731",
   "metadata": {},
   "outputs": [
    {
     "data": {
      "text/plain": [
       "str"
      ]
     },
     "execution_count": 21,
     "metadata": {},
     "output_type": "execute_result"
    }
   ],
   "source": [
    "type(b)"
   ]
  },
  {
   "cell_type": "code",
   "execution_count": 22,
   "id": "4972cea7",
   "metadata": {},
   "outputs": [
    {
     "name": "stdout",
     "output_type": "stream",
     "text": [
      "6\n"
     ]
    }
   ],
   "source": [
    "# if you want to output in integer\n",
    "\n",
    "c = int(input())"
   ]
  },
  {
   "cell_type": "code",
   "execution_count": 23,
   "id": "6932f9a8",
   "metadata": {},
   "outputs": [
    {
     "data": {
      "text/plain": [
       "int"
      ]
     },
     "execution_count": 23,
     "metadata": {},
     "output_type": "execute_result"
    }
   ],
   "source": [
    "type(c)"
   ]
  },
  {
   "cell_type": "code",
   "execution_count": 24,
   "id": "f3695b7e",
   "metadata": {},
   "outputs": [
    {
     "name": "stdout",
     "output_type": "stream",
     "text": [
      "600\n",
      "i wont be able to buy anything with this price\n"
     ]
    }
   ],
   "source": [
    "price = int(input())\n",
    "if price < 500 :\n",
    "    print(\"i will be able to buy something\")\n",
    "    if price < 400 :\n",
    "        print(\"i will be able to buy a jacket\")\n",
    "    elif price < 300 :\n",
    "        print(\" i will be able to buy a shirt\")\n",
    "    else:\n",
    "        print(\" i wont be able to buy anything\")\n",
    "else:\n",
    "    print(\"i wont be able to buy anything with this price\")"
   ]
  },
  {
   "cell_type": "code",
   "execution_count": 25,
   "id": "635d9f28",
   "metadata": {},
   "outputs": [
    {
     "name": "stdout",
     "output_type": "stream",
     "text": [
      "600\n",
      "i wont be able to buy anything with this price\n"
     ]
    }
   ],
   "source": [
    "price = int(input())\n",
    "if price < 500 :\n",
    "    print(\"i will be able to buy something\")\n",
    "    if price < 400 :\n",
    "        print(\"i will be able to buy a jacket\")\n",
    "    elif price < 300 :\n",
    "        print(\" i will be able to buy a shirt\")\n",
    "    else:\n",
    "        print(\" i wont be able to buy anything\")\n",
    "else:\n",
    "    print(\"i wont be able to buy anything with this price\")"
   ]
  },
  {
   "cell_type": "code",
   "execution_count": 26,
   "id": "3e7197d9",
   "metadata": {},
   "outputs": [
    {
     "name": "stdout",
     "output_type": "stream",
     "text": [
      "600\n",
      "i wont be able to buy anything with this price\n"
     ]
    }
   ],
   "source": [
    "price = int(input())\n",
    "if price < 500 :\n",
    "    print(\"i will be able to buy something\")\n",
    "    if price < 400 :\n",
    "        print(\"i will be able to buy a jacket\")\n",
    "    elif price < 300 :\n",
    "        print(\" i will be able to buy a shirt\")\n",
    "    else:\n",
    "        print(\" i wont be able to buy anything\")\n",
    "else:\n",
    "    print(\"i wont be able to buy anything with this price\")"
   ]
  },
  {
   "cell_type": "code",
   "execution_count": 27,
   "id": "445730d5",
   "metadata": {},
   "outputs": [
    {
     "name": "stdout",
     "output_type": "stream",
     "text": [
      "600\n",
      "i wont be able to buy anything with this price\n",
      "lets try something else\n"
     ]
    }
   ],
   "source": [
    "price = int(input())\n",
    "if price < 500 :\n",
    "    print(\"i will be able to buy something\")\n",
    "    if price < 400 :\n",
    "        print(\"i will be able to buy a jacket\")\n",
    "    elif price < 300 :\n",
    "        print(\" i will be able to buy a shirt\")\n",
    "    else:\n",
    "        print(\" i wont be able to buy anything\")\n",
    "else:\n",
    "    print(\"i wont be able to buy anything with this price\")\n",
    "    if price > 500 :\n",
    "        print(\"lets try something else\")"
   ]
  },
  {
   "cell_type": "code",
   "execution_count": 28,
   "id": "0a22baca",
   "metadata": {},
   "outputs": [
    {
     "name": "stdout",
     "output_type": "stream",
     "text": [
      "66\n",
      "don't go for gre test\n",
      "go for tofel\n"
     ]
    }
   ],
   "source": [
    "english = int(input())\n",
    "\n",
    "if english > 600 :\n",
    "    print(\"go for gre test\")\n",
    "elif english < 600:\n",
    "    print(\"don't go for gre test\")\n",
    "    if english < 500 :\n",
    "        print(\"go for tofel\")\n",
    "    else:\n",
    "        print(\"try something else\")\n",
    "else:\n",
    "    print(\"defends on your maraks\")"
   ]
  },
  {
   "cell_type": "code",
   "execution_count": 29,
   "id": "038cf73a",
   "metadata": {},
   "outputs": [
    {
     "name": "stdout",
     "output_type": "stream",
     "text": [
      "200\n",
      "don't go for gre test\n",
      "go for tofel\n"
     ]
    }
   ],
   "source": [
    "english = int(input())\n",
    "\n",
    "if english > 600 :\n",
    "    print(\"go for gre test\")\n",
    "elif english < 600:\n",
    "    print(\"don't go for gre test\")\n",
    "    if english < 500 :\n",
    "        print(\"go for tofel\")\n",
    "    else:\n",
    "        print(\"try something else\")\n",
    "else:\n",
    "    print(\"defends on your maraks\")"
   ]
  },
  {
   "cell_type": "code",
   "execution_count": 30,
   "id": "7dc5bf4a",
   "metadata": {},
   "outputs": [
    {
     "name": "stdout",
     "output_type": "stream",
     "text": [
      "5\n",
      "NO GRE\n",
      "GO FOR TOFEL\n",
      "try something else\n"
     ]
    }
   ],
   "source": [
    "marks = int(input())\n",
    "if marks < 600 :\n",
    "    print(\"NO GRE\")\n",
    "    if marks < 500 :\n",
    "        print(\"GO FOR TOFEL\")\n",
    "        if marks < 400 :\n",
    "            print(\"try something else\")\n",
    "    else:\n",
    "        print(\"YOU GOT TOFEL\")\n",
    "else:\n",
    "    print(\"YOU got GRE Congratulation\")"
   ]
  },
  {
   "cell_type": "code",
   "execution_count": 31,
   "id": "a0326b5d",
   "metadata": {},
   "outputs": [
    {
     "name": "stdout",
     "output_type": "stream",
     "text": [
      "Enter a floating number2\n",
      "enter value is a postive number\n"
     ]
    }
   ],
   "source": [
    "val = float(input(\"Enter a floating number\"))\n",
    "if val >= 0 :\n",
    "    if val == 0 :\n",
    "        print(\"entered value is zero\")\n",
    "    else :\n",
    "        print(\"enter value is a postive number\")\n",
    "else:\n",
    "    print(\"entered number is a negative number\")"
   ]
  },
  {
   "cell_type": "code",
   "execution_count": 32,
   "id": "ac38b164",
   "metadata": {},
   "outputs": [
    {
     "name": "stdout",
     "output_type": "stream",
     "text": [
      "try to do something\n"
     ]
    }
   ],
   "source": [
    "a = 10 \n",
    "if a < 10 or a == 10:\n",
    "    print(\"try to do something\")"
   ]
  },
  {
   "cell_type": "code",
   "execution_count": 33,
   "id": "424571de",
   "metadata": {},
   "outputs": [
    {
     "name": "stdout",
     "output_type": "stream",
     "text": [
      "this is Wali\n"
     ]
    }
   ],
   "source": [
    "a = 'Wali'\n",
    "if a == 'Wali' and a == 'Wali':\n",
    "    print('this is Wali')"
   ]
  },
  {
   "cell_type": "code",
   "execution_count": 34,
   "id": "204eaf94",
   "metadata": {},
   "outputs": [
    {
     "name": "stdout",
     "output_type": "stream",
     "text": [
      "this is Wali\n"
     ]
    }
   ],
   "source": [
    "a = 'Wali'\n",
    "if a == 'Shah' or a == 'Wali':\n",
    "    print('this is Wali')"
   ]
  },
  {
   "cell_type": "code",
   "execution_count": 35,
   "id": "bdd1177f",
   "metadata": {},
   "outputs": [],
   "source": [
    "a = 10\n",
    "b = 11\n",
    "c = 12\n",
    "d = 13\n",
    "\n",
    "if a == 9 and b == 11 and c == 12 and d == 13 :\n",
    "    print (\"lets do something\")"
   ]
  },
  {
   "cell_type": "code",
   "execution_count": 36,
   "id": "a0f603fe",
   "metadata": {},
   "outputs": [
    {
     "name": "stdout",
     "output_type": "stream",
     "text": [
      "lets do something\n"
     ]
    }
   ],
   "source": [
    "a = 10\n",
    "b = 11\n",
    "c = 12\n",
    "d = 13\n",
    "\n",
    "if a == 9 or b == 11 and c == 12 and d == 13 :\n",
    "    print (\"lets do something\")"
   ]
  },
  {
   "cell_type": "code",
   "execution_count": 37,
   "id": "46768541",
   "metadata": {},
   "outputs": [],
   "source": [
    "d = {'key1': 'value', 'key2' : 'shah', 'key3' : 'wali'}"
   ]
  },
  {
   "cell_type": "code",
   "execution_count": 39,
   "id": "360e13b0",
   "metadata": {},
   "outputs": [
    {
     "data": {
      "text/plain": [
       "'value'"
      ]
     },
     "execution_count": 39,
     "metadata": {},
     "output_type": "execute_result"
    }
   ],
   "source": [
    "d['key1']"
   ]
  },
  {
   "cell_type": "code",
   "execution_count": 42,
   "id": "2251b154",
   "metadata": {},
   "outputs": [
    {
     "name": "stdout",
     "output_type": "stream",
     "text": [
      "all the values are verified\n",
      "dict_values(['value', 'shah', 'wali'])\n"
     ]
    }
   ],
   "source": [
    "if d['key1'] == 'value' and d['key2'] == 'shah' and d['key3'] == 'wali':\n",
    "    print(\"all the values are verified\")\n",
    "    print(d.values())"
   ]
  },
  {
   "cell_type": "code",
   "execution_count": 43,
   "id": "f1b2df0d",
   "metadata": {},
   "outputs": [
    {
     "name": "stdout",
     "output_type": "stream",
     "text": [
      "All the values are not verified\n"
     ]
    }
   ],
   "source": [
    "# lets change some values\n",
    "if d['key1'] == 'value' and d['key2'] == 'SHAH' and d['key3'] == 'wali':\n",
    "    print(\"all the values are verified\")\n",
    "    print(d.values())\n",
    "else:\n",
    "    print(\"All the values are not verified\")\n",
    "    "
   ]
  },
  {
   "cell_type": "code",
   "execution_count": null,
   "id": "038f9609",
   "metadata": {},
   "outputs": [],
   "source": []
  }
 ],
 "metadata": {
  "kernelspec": {
   "display_name": "Python 3",
   "language": "python",
   "name": "python3"
  },
  "language_info": {
   "codemirror_mode": {
    "name": "ipython",
    "version": 3
   },
   "file_extension": ".py",
   "mimetype": "text/x-python",
   "name": "python",
   "nbconvert_exporter": "python",
   "pygments_lexer": "ipython3",
   "version": "3.8.8"
  }
 },
 "nbformat": 4,
 "nbformat_minor": 5
}
