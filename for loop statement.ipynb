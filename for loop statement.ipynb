{
 "cells": [
  {
   "cell_type": "code",
   "execution_count": 1,
   "id": "ab2bd9c7",
   "metadata": {},
   "outputs": [],
   "source": [
    "l = [1,2,3,4,\"shah\",'wali',1.4]"
   ]
  },
  {
   "cell_type": "code",
   "execution_count": 2,
   "id": "eef7998c",
   "metadata": {},
   "outputs": [
    {
     "name": "stdout",
     "output_type": "stream",
     "text": [
      "1\n",
      "2\n",
      "3\n",
      "4\n",
      "shah\n",
      "wali\n",
      "1.4\n"
     ]
    }
   ],
   "source": [
    "for i in l :\n",
    "    print(i)"
   ]
  },
  {
   "cell_type": "code",
   "execution_count": 3,
   "id": "98b49b1b",
   "metadata": {},
   "outputs": [
    {
     "ename": "SyntaxError",
     "evalue": "unexpected EOF while parsing (<ipython-input-3-b9809200e15c>, line 1)",
     "output_type": "error",
     "traceback": [
      "\u001b[1;36m  File \u001b[1;32m\"<ipython-input-3-b9809200e15c>\"\u001b[1;36m, line \u001b[1;32m1\u001b[0m\n\u001b[1;33m    for i in l:  # if you do this they will give error\u001b[0m\n\u001b[1;37m                                                      ^\u001b[0m\n\u001b[1;31mSyntaxError\u001b[0m\u001b[1;31m:\u001b[0m unexpected EOF while parsing\n"
     ]
    }
   ],
   "source": [
    "for i in l:  # if you do this they will give error"
   ]
  },
  {
   "cell_type": "code",
   "execution_count": 5,
   "id": "10c040de",
   "metadata": {},
   "outputs": [],
   "source": [
    "for i in l:    # if u want to aviod some sort of error then use (pass)\n",
    "    pass"
   ]
  },
  {
   "cell_type": "code",
   "execution_count": 6,
   "id": "5ee1b203",
   "metadata": {},
   "outputs": [
    {
     "name": "stdout",
     "output_type": "stream",
     "text": [
      "S\n",
      "H\n",
      "A\n",
      "H\n"
     ]
    }
   ],
   "source": [
    "s = \"SHAH\"   # if you want to extract string\n",
    "for i in s :   # (i) is a local variable \n",
    "    print(i)"
   ]
  },
  {
   "cell_type": "code",
   "execution_count": 7,
   "id": "86829e66",
   "metadata": {},
   "outputs": [
    {
     "name": "stdout",
     "output_type": "stream",
     "text": [
      "1\n",
      "2\n",
      "3\n",
      "4\n",
      "shah\n",
      "wali\n",
      "1.4\n",
      "if for loop is going to complete itself then it will execute else\n"
     ]
    }
   ],
   "source": [
    "for i in l :\n",
    "    print(i)\n",
    "else :\n",
    "    print(\"if for loop is going to complete itself then it will execute else\")"
   ]
  },
  {
   "cell_type": "code",
   "execution_count": 8,
   "id": "2f1fcb50",
   "metadata": {},
   "outputs": [
    {
     "name": "stdout",
     "output_type": "stream",
     "text": [
      "1\n",
      "2\n",
      "3\n"
     ]
    }
   ],
   "source": [
    "for i in l :\n",
    "    if i == 4 :\n",
    "        break      # break is a reserve keyword in python\n",
    "    print(i)\n",
    "else:\n",
    "    print(\"this is only execute only if for loop is going to complete itself\")"
   ]
  },
  {
   "cell_type": "code",
   "execution_count": 9,
   "id": "3ac79356",
   "metadata": {},
   "outputs": [
    {
     "name": "stdout",
     "output_type": "stream",
     "text": [
      "S\n",
      "H\n",
      "A\n",
      "H\n",
      "W\n",
      "A\n"
     ]
    }
   ],
   "source": [
    "s = \"SHAHWALI\"\n",
    "for i in s :\n",
    "    if i == 'L' :\n",
    "        break\n",
    "    print(i)\n",
    "else :\n",
    "    print(\"print string\" , s)"
   ]
  },
  {
   "cell_type": "code",
   "execution_count": 10,
   "id": "eb1cc865",
   "metadata": {},
   "outputs": [
    {
     "name": "stdout",
     "output_type": "stream",
     "text": [
      "4\n",
      "5\n",
      "6\n",
      "7\n",
      "8\n",
      "6\n",
      "shah\n"
     ]
    }
   ],
   "source": [
    "t = (4,5,6,7,8,6,'shah')\n",
    "for i in t :\n",
    "    print(i)"
   ]
  },
  {
   "cell_type": "code",
   "execution_count": 11,
   "id": "a169a88c",
   "metadata": {},
   "outputs": [
    {
     "name": "stdout",
     "output_type": "stream",
     "text": [
      "{4, 5, 6, 7, 8, 'shah'}\n"
     ]
    }
   ],
   "source": [
    "b = {4,5,6,7,7,7,7,7,7,8,'shah'}    #set\n",
    "type(b)\n",
    "print(b)"
   ]
  },
  {
   "cell_type": "code",
   "execution_count": 12,
   "id": "2caf9ac6",
   "metadata": {},
   "outputs": [
    {
     "name": "stdout",
     "output_type": "stream",
     "text": [
      "4\n",
      "5\n",
      "6\n",
      "7\n",
      "8\n",
      "shah\n"
     ]
    }
   ],
   "source": [
    "for i in b :\n",
    "    print(i)"
   ]
  },
  {
   "cell_type": "code",
   "execution_count": 13,
   "id": "2208ac10",
   "metadata": {},
   "outputs": [],
   "source": [
    "d = {'key':'wali', 'contact' : 34624555 , 'position' : \"xyz\"}"
   ]
  },
  {
   "cell_type": "code",
   "execution_count": 14,
   "id": "c03f73af",
   "metadata": {},
   "outputs": [
    {
     "name": "stdout",
     "output_type": "stream",
     "text": [
      "key\n",
      "contact\n",
      "position\n"
     ]
    }
   ],
   "source": [
    "for i in d :   # will extract key\n",
    "    print(i)"
   ]
  },
  {
   "cell_type": "code",
   "execution_count": 15,
   "id": "c66f96ef",
   "metadata": {},
   "outputs": [
    {
     "name": "stdout",
     "output_type": "stream",
     "text": [
      "wali\n",
      "34624555\n",
      "xyz\n"
     ]
    }
   ],
   "source": [
    "for i in d :    # will extract values\n",
    "    print(d[i])"
   ]
  },
  {
   "cell_type": "code",
   "execution_count": 16,
   "id": "de13a7c3",
   "metadata": {},
   "outputs": [
    {
     "name": "stdout",
     "output_type": "stream",
     "text": [
      "key wali\n",
      "contact 34624555\n",
      "position xyz\n"
     ]
    }
   ],
   "source": [
    "for i in d :\n",
    "    print(i, d[i])  # will gave you both key as well as values"
   ]
  },
  {
   "cell_type": "code",
   "execution_count": 17,
   "id": "6a338529",
   "metadata": {},
   "outputs": [
    {
     "name": "stdout",
     "output_type": "stream",
     "text": [
      "key : wali\n",
      "contact : 34624555\n",
      "position : xyz\n"
     ]
    }
   ],
   "source": [
    "for i in d :\n",
    "    print(i,\":\", d[i])  # will gave you both key as well as values"
   ]
  },
  {
   "cell_type": "code",
   "execution_count": 18,
   "id": "5c76dc23",
   "metadata": {},
   "outputs": [
    {
     "data": {
      "text/plain": [
       "range(0, 9)"
      ]
     },
     "execution_count": 18,
     "metadata": {},
     "output_type": "execute_result"
    }
   ],
   "source": [
    "range(9)   #range is a function"
   ]
  },
  {
   "cell_type": "code",
   "execution_count": 19,
   "id": "fe050089",
   "metadata": {},
   "outputs": [
    {
     "data": {
      "text/plain": [
       "[0, 1, 2, 3, 4, 5, 6, 7, 8]"
      ]
     },
     "execution_count": 19,
     "metadata": {},
     "output_type": "execute_result"
    }
   ],
   "source": [
    "list(range(9))"
   ]
  },
  {
   "cell_type": "code",
   "execution_count": 20,
   "id": "1f54002f",
   "metadata": {},
   "outputs": [
    {
     "data": {
      "text/plain": [
       "(0, 1, 2, 3, 4, 5, 6, 7, 8)"
      ]
     },
     "execution_count": 20,
     "metadata": {},
     "output_type": "execute_result"
    }
   ],
   "source": [
    "tuple(range(9))"
   ]
  },
  {
   "cell_type": "code",
   "execution_count": 21,
   "id": "58769318",
   "metadata": {},
   "outputs": [
    {
     "name": "stdout",
     "output_type": "stream",
     "text": [
      "0\n",
      "1\n",
      "2\n",
      "3\n",
      "4\n",
      "5\n",
      "6\n",
      "7\n",
      "8\n"
     ]
    }
   ],
   "source": [
    "for i in range(9) :\n",
    "    print(i)"
   ]
  },
  {
   "cell_type": "code",
   "execution_count": 22,
   "id": "695d1664",
   "metadata": {},
   "outputs": [
    {
     "data": {
      "text/plain": [
       "range(0, 9)"
      ]
     },
     "execution_count": 22,
     "metadata": {},
     "output_type": "execute_result"
    }
   ],
   "source": [
    "range(0,9) # if u mention the range"
   ]
  },
  {
   "cell_type": "code",
   "execution_count": 23,
   "id": "aa03c70b",
   "metadata": {},
   "outputs": [
    {
     "data": {
      "text/plain": [
       "[0, 1, 2, 3, 4, 5, 6, 7, 8]"
      ]
     },
     "execution_count": 23,
     "metadata": {},
     "output_type": "execute_result"
    }
   ],
   "source": [
    "list(range(0,9))"
   ]
  },
  {
   "cell_type": "code",
   "execution_count": 24,
   "id": "6293abaf",
   "metadata": {},
   "outputs": [
    {
     "data": {
      "text/plain": [
       "(0, 1, 2, 3, 4, 5, 6, 7, 8)"
      ]
     },
     "execution_count": 24,
     "metadata": {},
     "output_type": "execute_result"
    }
   ],
   "source": [
    "tuple(range(0,9))"
   ]
  },
  {
   "cell_type": "code",
   "execution_count": 25,
   "id": "4aa1dfb7",
   "metadata": {},
   "outputs": [
    {
     "data": {
      "text/plain": [
       "[0, 2, 4, 6, 8]"
      ]
     },
     "execution_count": 25,
     "metadata": {},
     "output_type": "execute_result"
    }
   ],
   "source": [
    "list(range(0,9 , 2))    # jumping range"
   ]
  },
  {
   "cell_type": "code",
   "execution_count": 26,
   "id": "b9403ab6",
   "metadata": {},
   "outputs": [
    {
     "data": {
      "text/plain": [
       "[]"
      ]
     },
     "execution_count": 26,
     "metadata": {},
     "output_type": "execute_result"
    }
   ],
   "source": [
    "list(range(0,9, -1))   # the output will be null because the direction as miss match"
   ]
  },
  {
   "cell_type": "code",
   "execution_count": 27,
   "id": "180a373c",
   "metadata": {},
   "outputs": [
    {
     "data": {
      "text/plain": [
       "[9, 8, 7, 6, 5, 4, 3, 2, 1]"
      ]
     },
     "execution_count": 27,
     "metadata": {},
     "output_type": "execute_result"
    }
   ],
   "source": [
    "list(range(9,0 , -1))  # this one will give you data because direction is correct"
   ]
  },
  {
   "cell_type": "code",
   "execution_count": 28,
   "id": "71d08123",
   "metadata": {},
   "outputs": [
    {
     "name": "stdout",
     "output_type": "stream",
     "text": [
      "Wali \n",
      "\n",
      "Wali Wali \n",
      "\n",
      "Wali Wali Wali \n",
      "\n",
      "Wali Wali Wali Wali \n",
      "\n"
     ]
    }
   ],
   "source": [
    "n = 4\n",
    "for i in range(4) :\n",
    "    for j in range(0, i+1) :\n",
    "        print(\"Wali\", end = \" \")\n",
    "    print(\"\\n\")   # use for changing the line"
   ]
  },
  {
   "cell_type": "code",
   "execution_count": 29,
   "id": "b69410fe",
   "metadata": {},
   "outputs": [
    {
     "name": "stdout",
     "output_type": "stream",
     "text": [
      "* \n",
      "\n",
      "* * \n",
      "\n",
      "* * * \n",
      "\n",
      "* * * * \n",
      "\n",
      "* * * * * \n",
      "\n"
     ]
    }
   ],
   "source": [
    "h = 5\n",
    "for i in range(5) :\n",
    "    for j in range(0, i+1) :\n",
    "        print(\"*\", end = ' ')\n",
    "    print(\"\\n\")"
   ]
  },
  {
   "cell_type": "code",
   "execution_count": 30,
   "id": "9b02734f",
   "metadata": {},
   "outputs": [
    {
     "name": "stdout",
     "output_type": "stream",
     "text": [
      "   wali \n",
      "  wali wali \n",
      " wali wali wali \n"
     ]
    }
   ],
   "source": [
    "n = 3\n",
    "k = n\n",
    "for i in range(n):\n",
    "    k = k -1\n",
    "    print(' ' *k, end = ' ')\n",
    "    for j in range(i+1):\n",
    "        print('wali', end = ' ')\n",
    "    print()"
   ]
  },
  {
   "cell_type": "code",
   "execution_count": 31,
   "id": "2fa0bbc8",
   "metadata": {},
   "outputs": [
    {
     "name": "stdout",
     "output_type": "stream",
     "text": [
      "  * \n",
      " * * \n",
      "* * * \n"
     ]
    }
   ],
   "source": [
    "n= 3 \n",
    "for i in range(n) :\n",
    "    for j in range(i,n-1):\n",
    "        print(\"\", end =\" \")\n",
    "    for j in range(i+1):\n",
    "        print(\"*\", end = ' ')\n",
    "    print()"
   ]
  },
  {
   "cell_type": "code",
   "execution_count": 32,
   "id": "a0106453",
   "metadata": {},
   "outputs": [
    {
     "name": "stdout",
     "output_type": "stream",
     "text": [
      "   \n",
      "  Wali \n",
      " Wali Wali \n",
      "Wali Wali Wali \n"
     ]
    }
   ],
   "source": [
    "n = 3\n",
    "for i in range(n+1):\n",
    "    print(' '*(n-i) + 'Wali '* i)"
   ]
  },
  {
   "cell_type": "code",
   "execution_count": 33,
   "id": "e9f30506",
   "metadata": {},
   "outputs": [
    {
     "name": "stdout",
     "output_type": "stream",
     "text": [
      "          wali \n",
      "     wali wali wali \n",
      "wali wali wali wali wali \n"
     ]
    }
   ],
   "source": [
    "n = 3\n",
    "for i in range(n):\n",
    "    for j in range(i,n-1):\n",
    "        print(\" \" * len(\"wali\"), end = \" \")\n",
    "    for j in range(i+1):\n",
    "        print(\"wali\", end = \" \")\n",
    "    for j in range(i):\n",
    "        print(\"wali\", end = \" \")\n",
    "    print()"
   ]
  },
  {
   "cell_type": "code",
   "execution_count": 34,
   "id": "4b714797",
   "metadata": {},
   "outputs": [
    {
     "data": {
      "text/plain": [
       "[]"
      ]
     },
     "execution_count": 34,
     "metadata": {},
     "output_type": "execute_result"
    }
   ],
   "source": [
    "list(range(0))"
   ]
  },
  {
   "cell_type": "code",
   "execution_count": 35,
   "id": "b2edb03d",
   "metadata": {},
   "outputs": [],
   "source": [
    "t = (3,23,45,67,2,4,5,6)"
   ]
  },
  {
   "cell_type": "code",
   "execution_count": 36,
   "id": "fcda349f",
   "metadata": {},
   "outputs": [
    {
     "data": {
      "text/plain": [
       "[0, 1, 2, 3, 4, 5, 6, 7]"
      ]
     },
     "execution_count": 36,
     "metadata": {},
     "output_type": "execute_result"
    }
   ],
   "source": [
    "list(range(len(t)))   #create indexing"
   ]
  },
  {
   "cell_type": "code",
   "execution_count": null,
   "id": "6e87ff5d",
   "metadata": {},
   "outputs": [],
   "source": []
  },
  {
   "cell_type": "code",
   "execution_count": 37,
   "id": "ca3545a9",
   "metadata": {},
   "outputs": [
    {
     "name": "stdout",
     "output_type": "stream",
     "text": [
      "0 3\n",
      "1 23\n",
      "2 45\n",
      "3 67\n",
      "4 2\n",
      "5 4\n",
      "6 5\n",
      "7 6\n"
     ]
    }
   ],
   "source": [
    "t = (3,23,45,67,2,4,5,6)\n",
    "\n",
    "for i in range(len(t)):\n",
    "    print(i,t[i])"
   ]
  },
  {
   "cell_type": "code",
   "execution_count": 38,
   "id": "22a77048",
   "metadata": {},
   "outputs": [
    {
     "data": {
      "text/plain": [
       "range(0, 8)"
      ]
     },
     "execution_count": 38,
     "metadata": {},
     "output_type": "execute_result"
    }
   ],
   "source": [
    "s = \"shahwali\"\n",
    "range(len(s))"
   ]
  },
  {
   "cell_type": "code",
   "execution_count": 39,
   "id": "6ccb4549",
   "metadata": {},
   "outputs": [
    {
     "name": "stdout",
     "output_type": "stream",
     "text": [
      "0 s\n",
      "1 h\n",
      "2 a\n",
      "3 h\n",
      "4 w\n",
      "5 a\n",
      "6 l\n",
      "7 i\n"
     ]
    }
   ],
   "source": [
    "for i in range(len(s)) :\n",
    "    print(i, s[i])   # both will be print indexing and elements"
   ]
  },
  {
   "cell_type": "code",
   "execution_count": 40,
   "id": "0492157d",
   "metadata": {},
   "outputs": [],
   "source": [
    "s = \"ShahWali\""
   ]
  },
  {
   "cell_type": "code",
   "execution_count": 41,
   "id": "85ba776d",
   "metadata": {},
   "outputs": [
    {
     "data": {
      "text/plain": [
       "range(0, 8)"
      ]
     },
     "execution_count": 41,
     "metadata": {},
     "output_type": "execute_result"
    }
   ],
   "source": [
    "range(len(s))"
   ]
  },
  {
   "cell_type": "code",
   "execution_count": 42,
   "id": "1099c268",
   "metadata": {},
   "outputs": [
    {
     "data": {
      "text/plain": [
       "[0, 1, 2, 3, 4, 5, 6, 7]"
      ]
     },
     "execution_count": 42,
     "metadata": {},
     "output_type": "execute_result"
    }
   ],
   "source": [
    "list(range(len(s)))"
   ]
  },
  {
   "cell_type": "code",
   "execution_count": 43,
   "id": "5debd9c0",
   "metadata": {},
   "outputs": [
    {
     "data": {
      "text/plain": [
       "[]"
      ]
     },
     "execution_count": 43,
     "metadata": {},
     "output_type": "execute_result"
    }
   ],
   "source": [
    "list(range(len(s), 0))"
   ]
  },
  {
   "cell_type": "code",
   "execution_count": 44,
   "id": "a1b4f23b",
   "metadata": {},
   "outputs": [
    {
     "data": {
      "text/plain": [
       "[8, 7, 6, 5, 4, 3, 2, 1]"
      ]
     },
     "execution_count": 44,
     "metadata": {},
     "output_type": "execute_result"
    }
   ],
   "source": [
    "list(range(len(s), 0 , -1))   #reverse"
   ]
  },
  {
   "cell_type": "code",
   "execution_count": 45,
   "id": "d2b0e877",
   "metadata": {},
   "outputs": [
    {
     "data": {
      "text/plain": [
       "[8, 7, 6, 5, 4, 3, 2, 1, 0]"
      ]
     },
     "execution_count": 45,
     "metadata": {},
     "output_type": "execute_result"
    }
   ],
   "source": [
    "list(range(len(s), -1 , -1))"
   ]
  },
  {
   "cell_type": "code",
   "execution_count": 46,
   "id": "fe3369ac",
   "metadata": {},
   "outputs": [
    {
     "data": {
      "text/plain": [
       "[7, 6, 5, 4, 3, 2, 1, 0]"
      ]
     },
     "execution_count": 46,
     "metadata": {},
     "output_type": "execute_result"
    }
   ],
   "source": [
    "list(range(len(s) -1, -1 , -1))"
   ]
  },
  {
   "cell_type": "code",
   "execution_count": 47,
   "id": "656a3791",
   "metadata": {},
   "outputs": [
    {
     "name": "stdout",
     "output_type": "stream",
     "text": [
      "7 i\n",
      "6 l\n",
      "5 a\n",
      "4 W\n",
      "3 h\n",
      "2 a\n",
      "1 h\n",
      "0 S\n"
     ]
    }
   ],
   "source": [
    "for i in range(len(s) -1, -1 , -1):\n",
    "    print(i, s[i])                        # reverse"
   ]
  },
  {
   "cell_type": "code",
   "execution_count": 48,
   "id": "1c674964",
   "metadata": {},
   "outputs": [
    {
     "data": {
      "text/plain": [
       "{'key': 'wali', 'contact': 34624555, 'position': 'xyz'}"
      ]
     },
     "execution_count": 48,
     "metadata": {},
     "output_type": "execute_result"
    }
   ],
   "source": [
    "d "
   ]
  },
  {
   "cell_type": "code",
   "execution_count": 49,
   "id": "1c4cced6",
   "metadata": {},
   "outputs": [
    {
     "data": {
      "text/plain": [
       "dict_items([('key', 'wali'), ('contact', 34624555), ('position', 'xyz')])"
      ]
     },
     "execution_count": 49,
     "metadata": {},
     "output_type": "execute_result"
    }
   ],
   "source": [
    "d.items()"
   ]
  },
  {
   "cell_type": "code",
   "execution_count": 50,
   "id": "96a3e2bd",
   "metadata": {},
   "outputs": [
    {
     "name": "stdout",
     "output_type": "stream",
     "text": [
      "('key', 'wali')\n",
      "('contact', 34624555)\n",
      "('position', 'xyz')\n"
     ]
    }
   ],
   "source": [
    "for i in d.items() :\n",
    "    print(i)"
   ]
  },
  {
   "cell_type": "code",
   "execution_count": 51,
   "id": "3c7199ae",
   "metadata": {},
   "outputs": [
    {
     "name": "stdout",
     "output_type": "stream",
     "text": [
      "('key', 'wali') <class 'tuple'>\n",
      "('contact', 34624555) <class 'tuple'>\n",
      "('position', 'xyz') <class 'tuple'>\n"
     ]
    }
   ],
   "source": [
    "for i in d.items() :\n",
    "    print(i , type(i))"
   ]
  },
  {
   "cell_type": "code",
   "execution_count": 53,
   "id": "96f7c4af",
   "metadata": {},
   "outputs": [
    {
     "name": "stdout",
     "output_type": "stream",
     "text": [
      "('key', 'wali') <class 'tuple'> <class 'str'>\n",
      "('contact', 34624555) <class 'tuple'> <class 'int'>\n",
      "('position', 'xyz') <class 'tuple'> <class 'str'>\n"
     ]
    }
   ],
   "source": [
    "for i in d.items() :\n",
    "    print(i , type(i), type(i[1]))"
   ]
  },
  {
   "cell_type": "code",
   "execution_count": 54,
   "id": "121762db",
   "metadata": {},
   "outputs": [],
   "source": [
    "# if you want to extract numerical number\n",
    "l = [\"shah\", \"wali\" , 123456 , \"shahwalieng1@gmail.com\", 345, 64563]  "
   ]
  },
  {
   "cell_type": "code",
   "execution_count": 55,
   "id": "cf1429d1",
   "metadata": {},
   "outputs": [],
   "source": [
    "# create a blank list\n",
    "# i want to create a separtate list for numeric values\n",
    "l1 = []\n",
    "for i in l :\n",
    "    if type(i) == int :\n",
    "        l1.append(i)"
   ]
  },
  {
   "cell_type": "code",
   "execution_count": 56,
   "id": "eea55f07",
   "metadata": {},
   "outputs": [
    {
     "data": {
      "text/plain": [
       "[123456, 345, 64563]"
      ]
     },
     "execution_count": 56,
     "metadata": {},
     "output_type": "execute_result"
    }
   ],
   "source": [
    "l1"
   ]
  },
  {
   "cell_type": "code",
   "execution_count": 57,
   "id": "bb078c4e",
   "metadata": {},
   "outputs": [],
   "source": [
    "d = {1 : 345676, \"name\" : \"shah\", \"email\" : \"shahwalieng1@gmail.com\", 234 : \"good\", 66 : \"lst\"}"
   ]
  },
  {
   "cell_type": "code",
   "execution_count": 58,
   "id": "a498074a",
   "metadata": {},
   "outputs": [
    {
     "name": "stdout",
     "output_type": "stream",
     "text": [
      "1\n",
      "name\n",
      "email\n",
      "234\n",
      "66\n"
     ]
    }
   ],
   "source": [
    " for i in d :\n",
    "    print(i)   # by default will print keys"
   ]
  },
  {
   "cell_type": "code",
   "execution_count": 59,
   "id": "42e71821",
   "metadata": {},
   "outputs": [
    {
     "name": "stdout",
     "output_type": "stream",
     "text": [
      "1 : 345676\n",
      "234 : good\n",
      "66 : lst\n"
     ]
    }
   ],
   "source": [
    "# i am expecting the key  should be numeric\n",
    "for i in d :\n",
    "    if type(i) == int :\n",
    "        print(i, \":\" , d[i])"
   ]
  },
  {
   "cell_type": "code",
   "execution_count": 60,
   "id": "a930ab7b",
   "metadata": {},
   "outputs": [],
   "source": [
    "s = \"aaaabbccd\"\n",
    "# expecting output\n",
    "# a : 4 times\n",
    "# b : 2 times\n",
    "# c : 2 times\n",
    "# d : 1 times\n",
    "\n"
   ]
  },
  {
   "cell_type": "code",
   "execution_count": 61,
   "id": "55efa16e",
   "metadata": {},
   "outputs": [
    {
     "data": {
      "text/plain": [
       "{'a', 'b', 'c', 'd'}"
      ]
     },
     "execution_count": 61,
     "metadata": {},
     "output_type": "execute_result"
    }
   ],
   "source": [
    "set(s)   # find unique values"
   ]
  },
  {
   "cell_type": "code",
   "execution_count": 62,
   "id": "8a2d5d77",
   "metadata": {},
   "outputs": [
    {
     "name": "stdout",
     "output_type": "stream",
     "text": [
      "c : 2\n",
      "b : 2\n",
      "d : 1\n",
      "a : 4\n"
     ]
    }
   ],
   "source": [
    "# find the word how many times are their\n",
    "for i in set(s) :\n",
    "    print(i, \":\", s.count(i))"
   ]
  },
  {
   "cell_type": "code",
   "execution_count": 64,
   "id": "e288cee2",
   "metadata": {},
   "outputs": [
    {
     "data": {
      "text/plain": [
       "4"
      ]
     },
     "execution_count": 64,
     "metadata": {},
     "output_type": "execute_result"
    }
   ],
   "source": [
    "# second way to check \n",
    "s.count('a')"
   ]
  },
  {
   "cell_type": "code",
   "execution_count": 65,
   "id": "c30c52b6",
   "metadata": {},
   "outputs": [
    {
     "ename": "TypeError",
     "evalue": "'int' object is not iterable",
     "output_type": "error",
     "traceback": [
      "\u001b[1;31m---------------------------------------------------------------------------\u001b[0m",
      "\u001b[1;31mTypeError\u001b[0m                                 Traceback (most recent call last)",
      "\u001b[1;32m<ipython-input-65-f7d1175ee12d>\u001b[0m in \u001b[0;36m<module>\u001b[1;34m\u001b[0m\n\u001b[0;32m      1\u001b[0m \u001b[0mi\u001b[0m \u001b[1;33m=\u001b[0m \u001b[1;36m345346546453\u001b[0m\u001b[1;33m\u001b[0m\u001b[1;33m\u001b[0m\u001b[0m\n\u001b[1;32m----> 2\u001b[1;33m \u001b[1;32mfor\u001b[0m \u001b[0mj\u001b[0m \u001b[1;32min\u001b[0m \u001b[0mi\u001b[0m \u001b[1;33m:\u001b[0m\u001b[1;33m\u001b[0m\u001b[1;33m\u001b[0m\u001b[0m\n\u001b[0m\u001b[0;32m      3\u001b[0m     \u001b[0mprint\u001b[0m\u001b[1;33m(\u001b[0m\u001b[0mj\u001b[0m\u001b[1;33m)\u001b[0m    \u001b[1;31m# this type of stament will give error int object is not iterable\u001b[0m\u001b[1;33m\u001b[0m\u001b[1;33m\u001b[0m\u001b[0m\n",
      "\u001b[1;31mTypeError\u001b[0m: 'int' object is not iterable"
     ]
    }
   ],
   "source": [
    "i = 345346546453\n",
    "for j in i :\n",
    "    print(j)    # this type of stament will give error int object is not iterable"
   ]
  },
  {
   "cell_type": "code",
   "execution_count": 66,
   "id": "173dd1a3",
   "metadata": {},
   "outputs": [
    {
     "data": {
      "text/plain": [
       "'345346546453'"
      ]
     },
     "execution_count": 66,
     "metadata": {},
     "output_type": "execute_result"
    }
   ],
   "source": [
    "str(i)"
   ]
  },
  {
   "cell_type": "code",
   "execution_count": 67,
   "id": "4c8e616d",
   "metadata": {},
   "outputs": [
    {
     "name": "stdout",
     "output_type": "stream",
     "text": [
      "3\n",
      "4\n",
      "5\n",
      "3\n",
      "4\n",
      "6\n",
      "5\n",
      "4\n",
      "6\n",
      "4\n",
      "5\n",
      "3\n"
     ]
    }
   ],
   "source": [
    "i = 345346546453\n",
    "for j in str(i) :\n",
    "    print(j)    # now this statment is fine this is iterable because of str"
   ]
  },
  {
   "cell_type": "code",
   "execution_count": 68,
   "id": "1005902c",
   "metadata": {},
   "outputs": [
    {
     "name": "stdout",
     "output_type": "stream",
     "text": [
      "3 <class 'str'>\n",
      "4 <class 'str'>\n",
      "5 <class 'str'>\n",
      "3 <class 'str'>\n",
      "4 <class 'str'>\n",
      "6 <class 'str'>\n",
      "5 <class 'str'>\n",
      "4 <class 'str'>\n",
      "6 <class 'str'>\n",
      "4 <class 'str'>\n",
      "5 <class 'str'>\n",
      "3 <class 'str'>\n"
     ]
    }
   ],
   "source": [
    "i = 345346546453\n",
    "for j in str(i) :\n",
    "    print(j, type(str(j))) "
   ]
  },
  {
   "cell_type": "code",
   "execution_count": 69,
   "id": "27540aa3",
   "metadata": {},
   "outputs": [],
   "source": [
    "# tuple\n",
    "\n",
    "t = (\"shah\", \"wali\", [1,2,3,4], (3,4,5,6), {\"key1\": \"wali\", \"key2\" : \"khan\"})"
   ]
  },
  {
   "cell_type": "code",
   "execution_count": 70,
   "id": "f05eac11",
   "metadata": {},
   "outputs": [
    {
     "name": "stdout",
     "output_type": "stream",
     "text": [
      "shah\n",
      "wali\n",
      "[1, 2, 3, 4]\n",
      "(3, 4, 5, 6)\n",
      "{'key1': 'wali', 'key2': 'khan'}\n"
     ]
    }
   ],
   "source": [
    "for i in t :\n",
    "    print(i)"
   ]
  },
  {
   "cell_type": "code",
   "execution_count": 71,
   "id": "81976983",
   "metadata": {},
   "outputs": [
    {
     "name": "stdout",
     "output_type": "stream",
     "text": [
      "3\n",
      "3\n"
     ]
    }
   ],
   "source": [
    "for i in t :\n",
    "    if type(i) == list or type(i) == tuple :\n",
    "        for j in i :\n",
    "            if j == 3 :\n",
    "                print(j)"
   ]
  },
  {
   "cell_type": "code",
   "execution_count": 72,
   "id": "8a8c3a46",
   "metadata": {},
   "outputs": [],
   "source": [
    "# tuple\n",
    "# if u want to check how many time are 3 is aavilable in tuple\n",
    "t = (\"shah\", \"wali\", [1,2,3,4], (3,4,5,6), {3: \"wali\", \"key2\" : \"khan\"})"
   ]
  },
  {
   "cell_type": "code",
   "execution_count": 73,
   "id": "db2dbdec",
   "metadata": {},
   "outputs": [
    {
     "name": "stdout",
     "output_type": "stream",
     "text": [
      "3\n",
      "3\n",
      "3\n"
     ]
    }
   ],
   "source": [
    "for i in t :\n",
    "    if type(i) == list or type(i) == tuple or type(i) == dict:\n",
    "        for j in i :\n",
    "            if j == 3 :\n",
    "                print(j)"
   ]
  },
  {
   "cell_type": "code",
   "execution_count": 74,
   "id": "097d780f",
   "metadata": {},
   "outputs": [],
   "source": [
    "t = (\"shah\", \"wali\", [1,2,3,4], (3,4,5,6), {3: 3, \"key2\" : \"khan\"})"
   ]
  },
  {
   "cell_type": "code",
   "execution_count": 76,
   "id": "5722cf89",
   "metadata": {},
   "outputs": [
    {
     "name": "stdout",
     "output_type": "stream",
     "text": [
      "3\n",
      "3\n",
      "(3, 3)\n",
      "('key2', 'khan')\n"
     ]
    }
   ],
   "source": [
    "for i in t :\n",
    "    if type(i) == list or type(i) == tuple :\n",
    "        for j in i :\n",
    "            if j == 3 :\n",
    "                print(j)\n",
    "    if type(i) == dict :\n",
    "        for k in i.items():\n",
    "            print(k)"
   ]
  },
  {
   "cell_type": "code",
   "execution_count": 77,
   "id": "c206076a",
   "metadata": {},
   "outputs": [
    {
     "name": "stdout",
     "output_type": "stream",
     "text": [
      "3\n",
      "3\n",
      "3\n",
      "3\n"
     ]
    }
   ],
   "source": [
    "# we want just print (3)\n",
    "\n",
    "for i in t :\n",
    "    if type(i) == list or type(i) == tuple :\n",
    "        for j in i :\n",
    "            if j == 3 :\n",
    "                print(j)\n",
    "    if type(i) == dict :\n",
    "        for k, v in i.items():\n",
    "            if k == 3 or v == 3 :\n",
    "                print(k)\n",
    "                print(v)\n",
    "            "
   ]
  },
  {
   "cell_type": "code",
   "execution_count": 78,
   "id": "ab516e90",
   "metadata": {},
   "outputs": [],
   "source": [
    "# these three statment are same\n",
    "# statment one\n",
    "a = 10\n",
    "b = 20\n",
    "c = 30\n",
    "\n",
    "# statment two\n",
    "a , b , c = 10, 20, 30\n",
    "\n",
    "# statment three \n",
    "a,b,c = (10,20,30)   # tuple"
   ]
  },
  {
   "cell_type": "code",
   "execution_count": 82,
   "id": "54f51ad4",
   "metadata": {},
   "outputs": [
    {
     "name": "stdout",
     "output_type": "stream",
     "text": [
      "{'beginners', 'python', 'coding', 'tips', 'for'}\n"
     ]
    },
    {
     "data": {
      "text/plain": [
       "'beginnerspythoncodingtipsfor'"
      ]
     },
     "execution_count": 82,
     "metadata": {},
     "output_type": "execute_result"
    }
   ],
   "source": [
    "set = {\"python\", \"coding\", \"tips\", \"for\", \"beginners\"}\n",
    "print(set)\n",
    "''.join(set)"
   ]
  },
  {
   "cell_type": "code",
   "execution_count": 83,
   "id": "392d8ba9",
   "metadata": {},
   "outputs": [
    {
     "name": "stdout",
     "output_type": "stream",
     "text": [
      "{'beginners', 'python', 'coding', 'tips', 'for'}\n"
     ]
    },
    {
     "data": {
      "text/plain": [
       "'beginners python coding tips for'"
      ]
     },
     "execution_count": 83,
     "metadata": {},
     "output_type": "execute_result"
    }
   ],
   "source": [
    "set = {\"python\", \"coding\", \"tips\", \"for\", \"beginners\"}\n",
    "print(set)\n",
    "' '.join(set)"
   ]
  },
  {
   "cell_type": "code",
   "execution_count": 85,
   "id": "1cbfd334",
   "metadata": {},
   "outputs": [
    {
     "name": "stdout",
     "output_type": "stream",
     "text": [
      "{'p': 'y', 't': 'h', 'o': 'n'}\n"
     ]
    }
   ],
   "source": [
    "print(dict((\"py\",\"th\",\"on\")))"
   ]
  },
  {
   "cell_type": "code",
   "execution_count": null,
   "id": "d9dec2d4",
   "metadata": {},
   "outputs": [],
   "source": []
  }
 ],
 "metadata": {
  "kernelspec": {
   "display_name": "Python 3",
   "language": "python",
   "name": "python3"
  },
  "language_info": {
   "codemirror_mode": {
    "name": "ipython",
    "version": 3
   },
   "file_extension": ".py",
   "mimetype": "text/x-python",
   "name": "python",
   "nbconvert_exporter": "python",
   "pygments_lexer": "ipython3",
   "version": "3.8.8"
  }
 },
 "nbformat": 4,
 "nbformat_minor": 5
}
