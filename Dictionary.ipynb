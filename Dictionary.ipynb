{
 "cells": [
  {
   "cell_type": "markdown",
   "id": "11c0ddc5",
   "metadata": {},
   "source": [
    "# Dictionary\n",
    " . Dictionary is a key pairs values"
   ]
  },
  {
   "cell_type": "code",
   "execution_count": 1,
   "id": "4c1c4129",
   "metadata": {},
   "outputs": [],
   "source": [
    "d = {}"
   ]
  },
  {
   "cell_type": "code",
   "execution_count": 2,
   "id": "e6cb1dea",
   "metadata": {},
   "outputs": [
    {
     "data": {
      "text/plain": [
       "dict"
      ]
     },
     "execution_count": 2,
     "metadata": {},
     "output_type": "execute_result"
    }
   ],
   "source": [
    "type(d)"
   ]
  },
  {
   "cell_type": "code",
   "execution_count": 3,
   "id": "c12b85f8",
   "metadata": {},
   "outputs": [],
   "source": [
    "d1 = {'key' : 'value', 234 : 'xyz', 'name' : 'shahwali'}"
   ]
  },
  {
   "cell_type": "code",
   "execution_count": 4,
   "id": "df79bfeb",
   "metadata": {},
   "outputs": [
    {
     "data": {
      "text/plain": [
       "{'key': 'value', 234: 'xyz', 'name': 'shahwali'}"
      ]
     },
     "execution_count": 4,
     "metadata": {},
     "output_type": "execute_result"
    }
   ],
   "source": [
    "d1"
   ]
  },
  {
   "cell_type": "code",
   "execution_count": 5,
   "id": "9d67fc71",
   "metadata": {},
   "outputs": [
    {
     "data": {
      "text/plain": [
       "dict"
      ]
     },
     "execution_count": 5,
     "metadata": {},
     "output_type": "execute_result"
    }
   ],
   "source": [
    "type(d1)"
   ]
  },
  {
   "cell_type": "code",
   "execution_count": 6,
   "id": "c515792b",
   "metadata": {},
   "outputs": [
    {
     "data": {
      "text/plain": [
       "'shahwali'"
      ]
     },
     "execution_count": 6,
     "metadata": {},
     "output_type": "execute_result"
    }
   ],
   "source": [
    "d1['name']"
   ]
  },
  {
   "cell_type": "code",
   "execution_count": 7,
   "id": "3953732f",
   "metadata": {},
   "outputs": [
    {
     "data": {
      "text/plain": [
       "'xyz'"
      ]
     },
     "execution_count": 7,
     "metadata": {},
     "output_type": "execute_result"
    }
   ],
   "source": [
    "d1[234]"
   ]
  },
  {
   "cell_type": "code",
   "execution_count": 8,
   "id": "e889ee3a",
   "metadata": {},
   "outputs": [],
   "source": [
    "d2 = {'name' : \"Wali\", 'tech': [\"AI\",'ML',\"DL\",\"NLP\",\"CV\"]}"
   ]
  },
  {
   "cell_type": "code",
   "execution_count": 9,
   "id": "8ba3a7b3",
   "metadata": {},
   "outputs": [
    {
     "data": {
      "text/plain": [
       "{'name': 'Wali', 'tech': ['AI', 'ML', 'DL', 'NLP', 'CV']}"
      ]
     },
     "execution_count": 9,
     "metadata": {},
     "output_type": "execute_result"
    }
   ],
   "source": [
    "d2"
   ]
  },
  {
   "cell_type": "code",
   "execution_count": 10,
   "id": "1ab33d37",
   "metadata": {},
   "outputs": [
    {
     "data": {
      "text/plain": [
       "['AI', 'ML', 'DL', 'NLP', 'CV']"
      ]
     },
     "execution_count": 10,
     "metadata": {},
     "output_type": "execute_result"
    }
   ],
   "source": [
    "d2['tech']"
   ]
  },
  {
   "cell_type": "code",
   "execution_count": 12,
   "id": "3df77a70",
   "metadata": {},
   "outputs": [
    {
     "data": {
      "text/plain": [
       "True"
      ]
     },
     "execution_count": 12,
     "metadata": {},
     "output_type": "execute_result"
    }
   ],
   "source": [
    "\"ML\" in d2['tech']"
   ]
  },
  {
   "cell_type": "code",
   "execution_count": 19,
   "id": "661f0180",
   "metadata": {},
   "outputs": [],
   "source": [
    "# key can be unique otherwise will excute first one \n",
    "d3 = {\"name\" : \"Shah Wali\", \"contact\" : 3462434924, 'name' : \"Khan\"}"
   ]
  },
  {
   "cell_type": "code",
   "execution_count": 20,
   "id": "6d75334a",
   "metadata": {},
   "outputs": [
    {
     "data": {
      "text/plain": [
       "{'name': 'Khan', 'contact': 3462434924}"
      ]
     },
     "execution_count": 20,
     "metadata": {},
     "output_type": "execute_result"
    }
   ],
   "source": [
    "d3"
   ]
  },
  {
   "cell_type": "code",
   "execution_count": 21,
   "id": "60af8cde",
   "metadata": {},
   "outputs": [],
   "source": [
    "d3['k1'] ='xyz'  # add something"
   ]
  },
  {
   "cell_type": "code",
   "execution_count": 22,
   "id": "59a30774",
   "metadata": {},
   "outputs": [
    {
     "data": {
      "text/plain": [
       "{'name': 'Khan', 'contact': 3462434924, 'k1': 'xyz'}"
      ]
     },
     "execution_count": 22,
     "metadata": {},
     "output_type": "execute_result"
    }
   ],
   "source": [
    "d3"
   ]
  },
  {
   "cell_type": "code",
   "execution_count": 23,
   "id": "ae618155",
   "metadata": {},
   "outputs": [],
   "source": [
    "# overwrite\n",
    "d3['k2'] = d2"
   ]
  },
  {
   "cell_type": "code",
   "execution_count": 24,
   "id": "c0d90a4b",
   "metadata": {},
   "outputs": [
    {
     "data": {
      "text/plain": [
       "{'name': 'Khan',\n",
       " 'contact': 3462434924,\n",
       " 'k1': 'xyz',\n",
       " 'k2': {'name': 'Wali', 'tech': ['AI', 'ML', 'DL', 'NLP', 'CV']}}"
      ]
     },
     "execution_count": 24,
     "metadata": {},
     "output_type": "execute_result"
    }
   ],
   "source": [
    "d3"
   ]
  },
  {
   "cell_type": "code",
   "execution_count": 25,
   "id": "a1b451d6",
   "metadata": {},
   "outputs": [
    {
     "data": {
      "text/plain": [
       "{'name': 'Wali', 'tech': ['AI', 'ML', 'DL', 'NLP', 'CV']}"
      ]
     },
     "execution_count": 25,
     "metadata": {},
     "output_type": "execute_result"
    }
   ],
   "source": [
    "d3['k2'] # extraction"
   ]
  },
  {
   "cell_type": "code",
   "execution_count": 26,
   "id": "4bc64e8d",
   "metadata": {},
   "outputs": [
    {
     "data": {
      "text/plain": [
       "['AI', 'ML', 'DL', 'NLP', 'CV']"
      ]
     },
     "execution_count": 26,
     "metadata": {},
     "output_type": "execute_result"
    }
   ],
   "source": [
    "d3['k2']['tech'] # extraction"
   ]
  },
  {
   "cell_type": "code",
   "execution_count": 27,
   "id": "492a089d",
   "metadata": {},
   "outputs": [],
   "source": [
    "d4 = {(1,2,3) : \"shah wali\"}"
   ]
  },
  {
   "cell_type": "code",
   "execution_count": 28,
   "id": "db5fb943",
   "metadata": {},
   "outputs": [
    {
     "data": {
      "text/plain": [
       "'shah wali'"
      ]
     },
     "execution_count": 28,
     "metadata": {},
     "output_type": "execute_result"
    }
   ],
   "source": [
    "d4[(1,2,3)]"
   ]
  },
  {
   "cell_type": "code",
   "execution_count": 29,
   "id": "550f2093",
   "metadata": {},
   "outputs": [
    {
     "data": {
      "text/plain": [
       "{'key': 'value', 234: 'xyz', 'name': 'shahwali'}"
      ]
     },
     "execution_count": 29,
     "metadata": {},
     "output_type": "execute_result"
    }
   ],
   "source": [
    "d1"
   ]
  },
  {
   "cell_type": "code",
   "execution_count": 30,
   "id": "c9d7723b",
   "metadata": {},
   "outputs": [
    {
     "ename": "TypeError",
     "evalue": "unsupported operand type(s) for +: 'dict' and 'dict'",
     "output_type": "error",
     "traceback": [
      "\u001b[1;31m---------------------------------------------------------------------------\u001b[0m",
      "\u001b[1;31mTypeError\u001b[0m                                 Traceback (most recent call last)",
      "\u001b[1;32m<ipython-input-30-2d11e461fd3b>\u001b[0m in \u001b[0;36m<module>\u001b[1;34m\u001b[0m\n\u001b[0;32m      1\u001b[0m \u001b[1;31m# concatenation is not working in dictionaries\u001b[0m\u001b[1;33m\u001b[0m\u001b[1;33m\u001b[0m\u001b[1;33m\u001b[0m\u001b[0m\n\u001b[1;32m----> 2\u001b[1;33m \u001b[0md1\u001b[0m \u001b[1;33m+\u001b[0m \u001b[0md2\u001b[0m\u001b[1;33m\u001b[0m\u001b[1;33m\u001b[0m\u001b[0m\n\u001b[0m",
      "\u001b[1;31mTypeError\u001b[0m: unsupported operand type(s) for +: 'dict' and 'dict'"
     ]
    }
   ],
   "source": [
    " # concatenation is not working in dictionaries\n",
    "d1 + d2"
   ]
  },
  {
   "cell_type": "code",
   "execution_count": 31,
   "id": "15d78a06",
   "metadata": {},
   "outputs": [
    {
     "data": {
      "text/plain": [
       "{'key': 'value', 234: 'xyz', 'name': 'shahwali'}"
      ]
     },
     "execution_count": 31,
     "metadata": {},
     "output_type": "execute_result"
    }
   ],
   "source": [
    "d1"
   ]
  },
  {
   "cell_type": "code",
   "execution_count": 32,
   "id": "e9723eeb",
   "metadata": {},
   "outputs": [
    {
     "data": {
      "text/plain": [
       "dict_keys(['key', 234, 'name'])"
      ]
     },
     "execution_count": 32,
     "metadata": {},
     "output_type": "execute_result"
    }
   ],
   "source": [
    "d1.keys()"
   ]
  },
  {
   "cell_type": "code",
   "execution_count": 33,
   "id": "1b5ab630",
   "metadata": {},
   "outputs": [
    {
     "data": {
      "text/plain": [
       "dict_values(['value', 'xyz', 'shahwali'])"
      ]
     },
     "execution_count": 33,
     "metadata": {},
     "output_type": "execute_result"
    }
   ],
   "source": [
    "d1.values()"
   ]
  },
  {
   "cell_type": "code",
   "execution_count": 34,
   "id": "ef4c61dc",
   "metadata": {},
   "outputs": [
    {
     "data": {
      "text/plain": [
       "dict_items([('key', 'value'), (234, 'xyz'), ('name', 'shahwali')])"
      ]
     },
     "execution_count": 34,
     "metadata": {},
     "output_type": "execute_result"
    }
   ],
   "source": [
    "d1.items()"
   ]
  },
  {
   "cell_type": "code",
   "execution_count": null,
   "id": "e51dd32d",
   "metadata": {},
   "outputs": [],
   "source": []
  }
 ],
 "metadata": {
  "kernelspec": {
   "display_name": "Python 3",
   "language": "python",
   "name": "python3"
  },
  "language_info": {
   "codemirror_mode": {
    "name": "ipython",
    "version": 3
   },
   "file_extension": ".py",
   "mimetype": "text/x-python",
   "name": "python",
   "nbconvert_exporter": "python",
   "pygments_lexer": "ipython3",
   "version": "3.8.8"
  }
 },
 "nbformat": 4,
 "nbformat_minor": 5
}
